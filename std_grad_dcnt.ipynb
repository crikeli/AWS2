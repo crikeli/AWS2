{
 "cells": [
  {
   "cell_type": "code",
   "execution_count": 3,
   "metadata": {
    "collapsed": true
   },
   "outputs": [],
   "source": [
    "%matplotlib inline\n",
    "import math, sys, os, numpy as np\n",
    "from numpy.random import random\n",
    "from matplotlib import pyplot as plt, rcParams, animation, rc\n",
    "from __future__ import print_function, division\n",
    "from ipywidgets import interact, interactive, fixed\n",
    "from ipywidgets.widgets import *\n",
    "rc('animation', html='html5')\n",
    "rcParams['figure.figsize'] = 3,3\n",
    "%precision 4\n",
    "np.set_printoptions(precision=4, linewidth=100)"
   ]
  },
  {
   "cell_type": "code",
   "execution_count": 4,
   "metadata": {
    "collapsed": false
   },
   "outputs": [],
   "source": [
    "def lin(a,b,x):\n",
    "    return a*x+b\n",
    "\n",
    "# The parameters.\n",
    "a = 3\n",
    "b = 8\n",
    "\n",
    "n = 30\n",
    "x = random(n)\n",
    "y = lin(a,b,x)"
   ]
  },
  {
   "cell_type": "code",
   "execution_count": 5,
   "metadata": {
    "collapsed": false
   },
   "outputs": [
    {
     "name": "stdout",
     "output_type": "stream",
     "text": [
      "[ 0.7533  0.8001  0.8805  0.396   0.2642  0.5082  0.4053  0.5957  0.5531  0.1103  0.3789  0.8519\n",
      "  0.8724  0.4053  0.4549  0.4093  0.4141  0.5152  0.3483  0.761   0.5874  0.2196  0.9198  0.5922\n",
      "  0.4062  0.6504  0.4512  0.1039  0.5206  0.3749]\n"
     ]
    }
   ],
   "source": [
    "print(x)"
   ]
  },
  {
   "cell_type": "code",
   "execution_count": 6,
   "metadata": {
    "collapsed": false
   },
   "outputs": [
    {
     "name": "stdout",
     "output_type": "stream",
     "text": [
      "[ 10.26    10.4002  10.6416   9.1881   8.7927   9.5247   9.2158   9.7872   9.6594   8.331    9.1367\n",
      "  10.5558  10.6173   9.216    9.3647   9.2279   9.2422   9.5457   9.0448  10.283    9.7623   8.6588\n",
      "  10.7593   9.7765   9.2186   9.9511   9.3536   8.3118   9.5618   9.1246]\n"
     ]
    }
   ],
   "source": [
    "print(y)"
   ]
  },
  {
   "cell_type": "code",
   "execution_count": 7,
   "metadata": {
    "collapsed": false
   },
   "outputs": [
    {
     "data": {
      "text/plain": [
       "<matplotlib.collections.PathCollection at 0x7fd9426dcc90>"
      ]
     },
     "execution_count": 7,
     "metadata": {},
     "output_type": "execute_result"
    },
    {
     "data": {
      "image/png": "[encoded data removed]",
      "text/plain": [
       "<matplotlib.figure.Figure at 0x7fd960e83210>"
      ]
     },
     "metadata": {},
     "output_type": "display_data"
    }
   ],
   "source": [
    "plt.scatter(x,y)"
   ]
  },
  {
   "cell_type": "code",
   "execution_count": 8,
   "metadata": {
    "collapsed": true
   },
   "outputs": [],
   "source": [
    "def sse(y, y_pred):\n",
    "    return((y-y_pred)**2).sum()\n",
    "\n",
    "def loss(y,a,b,x):\n",
    "    return sse(y, lin(a,b,x))\n",
    "\n",
    "def avg_loss(y,a,b,x):\n",
    "    return np.sqrt(loss(y, a, b, x)/n)"
   ]
  },
  {
   "cell_type": "code",
   "execution_count": 9,
   "metadata": {
    "collapsed": false
   },
   "outputs": [
    {
     "data": {
      "text/plain": [
       "9.1084"
      ]
     },
     "execution_count": 9,
     "metadata": {},
     "output_type": "execute_result"
    }
   ],
   "source": [
    "a_guess = -1.\n",
    "b_guess = 1.\n",
    "avg_loss(y, a_guess, b_guess, x)"
   ]
  },
  {
   "cell_type": "code",
   "execution_count": 10,
   "metadata": {
    "collapsed": true
   },
   "outputs": [],
   "source": [
    "lr = 0.01\n",
    "\n",
    "# d[(y-(a*x+b))**2,b] = 2 (b + a x - y)      = 2 (y_pred - y)\n",
    "# d[(y-(a*x+b))**2,a] = 2 x (b + a x - y)    = x * dy/db"
   ]
  },
  {
   "cell_type": "code",
   "execution_count": 11,
   "metadata": {
    "collapsed": true
   },
   "outputs": [],
   "source": [
    "def upd():\n",
    "    global a_guess, b_guess\n",
    "    y_pred = lin(a_guess, b_guess, x)\n",
    "    dydb = 2 * (y_pred - y)\n",
    "#     print(\"dydb\", dydb)\n",
    "    dyda = x * dydb\n",
    "#     print(\"dyda\", dyda)\n",
    "    a_guess -= lr*dyda.mean()\n",
    "    print(\"a_guess\", a_guess)\n",
    "    b_guess -= lr*dydb.mean()\n",
    "    print(\"b_guess\", b_guess)"
   ]
  },
  {
   "cell_type": "code",
   "execution_count": 12,
   "metadata": {
    "collapsed": false
   },
   "outputs": [
    {
     "name": "stdout",
     "output_type": "stream",
     "text": [
      "a_guess -0.90253798874\n",
      "b_guess 1.18134501971\n",
      "a_guess -0.807562180403\n",
      "b_guess 1.35805574683\n",
      "a_guess -0.715009067723\n",
      "b_guess 1.53025056524\n",
      "a_guess -0.624816765719\n",
      "b_guess 1.69804483471\n",
      "a_guess -0.536924970253\n",
      "b_guess 1.86155096817\n",
      "a_guess -0.451274917647\n",
      "b_guess 2.02087850696\n",
      "a_guess -0.367809345335\n",
      "b_guess 2.17613419419\n",
      "a_guess -0.286472453514\n",
      "b_guess 2.32742204625\n",
      "a_guess -0.20720986778\n",
      "b_guess 2.47484342241\n",
      "a_guess -0.129968602717\n",
      "b_guess 2.61849709276\n",
      "a_guess -0.0546970264112\n",
      "b_guess 2.7584793043\n",
      "a_guess 0.018655174119\n",
      "b_guess 2.8948838454\n",
      "a_guess 0.0901370266178\n",
      "b_guess 3.02780210864\n",
      "a_guess 0.159796306423\n",
      "b_guess 3.15732315196\n",
      "a_guess 0.227679568457\n",
      "b_guess 3.28353375834\n",
      "a_guess 0.293832178405\n",
      "b_guess 3.40651849389\n",
      "a_guess 0.358298343091\n",
      "b_guess 3.52635976449\n",
      "a_guess 0.421121140083\n",
      "b_guess 3.64313787097\n",
      "a_guess 0.482342546538\n",
      "b_guess 3.75693106287\n",
      "a_guess 0.542003467313\n",
      "b_guess 3.86781559087\n",
      "a_guess 0.600143762358\n",
      "b_guess 3.97586575783\n",
      "a_guess 0.656802273404\n",
      "b_guess 4.08115396853\n",
      "a_guess 0.712016849977\n",
      "b_guess 4.18375077821\n",
      "a_guess 0.765824374744\n",
      "b_guess 4.28372493975\n",
      "a_guess 0.818260788207\n",
      "b_guess 4.38114344977\n",
      "a_guess 0.869361112776\n",
      "b_guess 4.47607159345\n",
      "a_guess 0.919159476217\n",
      "b_guess 4.56857298828\n",
      "a_guess 0.96768913451\n",
      "b_guess 4.65870962663\n",
      "a_guess 1.01498249411\n",
      "b_guess 4.74654191729\n",
      "a_guess 1.06107113367\n",
      "b_guess 4.83212872592\n",
      "a_guess 1.10598582515\n",
      "b_guess 4.91552741445\n",
      "a_guess 1.14975655447\n",
      "b_guess 4.99679387951\n",
      "a_guess 1.19241254153\n",
      "b_guess 5.07598258985\n",
      "a_guess 1.23398225985\n",
      "b_guess 5.15314662282\n",
      "a_guess 1.27449345557\n",
      "b_guess 5.22833769994\n",
      "a_guess 1.31397316608\n",
      "b_guess 5.30160622146\n",
      "a_guess 1.35244773809\n",
      "b_guess 5.3730013002\n",
      "a_guess 1.38994284529\n",
      "b_guess 5.44257079438\n",
      "a_guess 1.42648350556\n",
      "b_guess 5.51036133969\n",
      "a_guess 1.46209409767\n",
      "b_guess 5.57641838051\n",
      "a_guess 1.49679837766\n",
      "b_guess 5.64078620036\n"
     ]
    },
    {
     "data": {
      "text/html": [
       "<video width=\"500.0\" height=\"400.0\" controls autoplay loop>\n",
       "  <source type=\"video/mp4\" src=\"data:video/mp4;base64,AAAAHGZ0eXBNNFYgAAACAGlzb21pc28yYXZjMQAAAAhmcmVlAAA/IG1kYXQAAAKuBgX//6rcRem9\n",
       "5tlIt5Ys2CDZI+7veDI2NCAtIGNvcmUgMTQ4IHIyNjQzIDVjNjU3MDQgLSBILjI2NC9NUEVHLTQg\n",
       "QVZDIGNvZGVjIC0gQ29weWxlZnQgMjAwMy0yMDE1IC0gaHR0cDovL3d3dy52aWRlb2xhbi5vcmcv\n",
       "eDI2NC5odG1sIC0gb3B0aW9uczogY2FiYWM9MSByZWY9MyBkZWJsb2NrPTE6MDowIGFuYWx5c2U9\n",
       "MHgzOjB4MTEzIG1lPWhleCBzdWJtZT03IHBzeT0xIHBzeV9yZD0xLjAwOjAuMDAgbWl4ZWRfcmVm\n",
       "PTEgbWVfcmFuZ2U9MTYgY2hyb21hX21lPTEgdHJlbGxpcz0xIDh4OGRjdD0xIGNxbT0wIGRlYWR6\n",
       "b25lPTIxLDExIGZhc3RfcHNraXA9MSBjaHJvbWFfcXBfb2Zmc2V0PS0yIHRocmVhZHM9NiBsb29r\n",
       "YWhlYWRfdGhyZWFkcz0xIHNsaWNlZF90aHJlYWRzPTAgbnI9MCBkZWNpbWF0ZT0xIGludGVybGFj\n",
       "ZWQ9MCBibHVyYXlfY29tcGF0PTAgY29uc3RyYWluZWRfaW50cmE9MCBiZnJhbWVzPTMgYl9weXJh\n",
       "bWlkPTIgYl9hZGFwdD0xIGJfYmlhcz0wIGRpcmVjdD0xIHdlaWdodGI9MSBvcGVuX2dvcD0wIHdl\n",
       "aWdodHA9MiBrZXlpbnQ9MjUwIGtleWludF9taW49MTAgc2NlbmVjdXQ9NDAgaW50cmFfcmVmcmVz\n",
       "aD0wIHJjX2xvb2thaGVhZD00MCByYz1jcmYgbWJ0cmVlPTEgY3JmPTIzLjAgcWNvbXA9MC42MCBx\n",
       "cG1pbj0wIHFwbWF4PTY5IHFwc3RlcD00IGlwX3JhdGlvPTEuNDAgYXE9MToxLjAwAIAAABP9ZYiE\n",
       "AD///vdonwKbWkN6gOSVxSXbT4H/q2dwfI/pAwAAAwAAAwAkAvzHv6EHQzQgAABRkkpUkmIiRmAh\n",
       "sP+ebxUt65SzxgV5BtAtfEw+/RTgAd48X43c8vDOKyJ16Rb4I57ikspKAdLwEk640y9hTBSnOt2G\n",
       "9BfCLxxHiE8R2vxbFfhlHsSYn/lgrj+csSHqPXWFIiuVSUakG23Sd4x/QuzaiGTNOsTcfHtp1c0F\n",
       "8d5p56QHO2NCvcPN3PdVxHR9zDztCTRMa1cvsz0Wia9wbxWyPEkl1uYb9aA71XS+bSnnu8ITYuVT\n",
       "s/tkzgUuVCSx+fPG86g9hYbmEMQ4cnNV0g6acVcoataotqXQtjYX/fnODuTScO+l0xuNdqaQJZvE\n",
       "Vep9qpaaeRKm4TwJRdjuGL1ckElvhA0ZrJozB4duk3SdaY1XZfuhk03Hbe99z5IFxjYJmlUWSO9O\n",
       "tnQ8+tUeWP9737Uir0jXtvUhZucmtV+7Lq0i9ALbzx+rCmco7AGvxBEnlesiIJU8GAddShjR3yCY\n",
       "FEbh//Hg7v4h6IWs5QqL+3n6PhJt1bV0Gtbn/CqxB5foKM//TeatmrzeChycKx8dWyqigYFZSGIk\n",
       "+xGl//VJTisBROdDNWdSS8J1LgJLmW/wAAMfDZfpkYsDv6vB9UyHpHZ89PmjoZnnAaNmvo4h1qb/\n",
       "y2/qdOlVf5m3KlABkFqQP1X/wPgQDdUzU75z2eVQ+UwAsw0jnJ3i7q+ukT8P48DZKD8WhPFy7BXU\n",
       "6QJMNLuNdfI4JVCr1SMURX4NwwIbshoEdxdibz1JDwIwZCZmncnIVo885gyxzQGAQ2vYo6ozDb3F\n",
       "8i/K6+5X7huqOrggc5168ahTTscALeTEtr0Dg1Y6iE1VohQLdU6BSiOpoVK7Vvc9GAi8XaXx0TFt\n",
       "xbq1KbVob97+Gow8Ll9clRJbndbleZmFF35qptTfXdI9gN3OIBriHU1BfmrK7OHeHlIb/+kIbsN3\n",
       "v9P76KVeDOWKjZfOLhEAdhxwjz38LVwpoadezLdaATzFDyRxiypdnYqA1niCnuLf4qwSTs8f5FMB\n",
       "RuC6ekSjdWBjoS4kuM206l3V6OTVq8Vx3baaHSXvGmefaFPI9uBYdhoDAturtbSHLn49hQnp4jZs\n",
       "lwbjT0W9ZzD2JC3GONl9gM7t5G4Tu9dCvSUnmf9OnZ4d3n+GmyOIZDdh5jFIjMyaJ43lhaKyUF60\n",
       "J67l8bhRef3BbGSx8JdbqXRSHtxBgxMNCgk74dQCcQ0mJ03cWAdsMBF7/vTQTJtZQJ0Q3b5rc0Pc\n",
       "I9tywXYTSSEW8X9WddZLBVDI3vNHu5A+BpJfh+bEH2irnUclJ04B2+Hz5JvnL+DlcTVatuoHahX3\n",
       "HuDRplmiSTGrMzaXrXbXRadBY2rbmotU9iCOpIPBcFD3TcY+Fwt27mx8wNZFQtiw5RpS8TkJNXiY\n",
       "XJnpH+ofJ9eba5P+GGPes17lfM+kbAq8Z0oePN1NAatHTYvpbfdkmiU67g51ioi5XMFBRcWGFl4I\n",
       "Gb2FMgcGBQ7+lJ+b/BeBFgeUQSurW8gbag8MS9FH5SMND002qYRuxIihNyDNFgRpHg96OXxequMQ\n",
       "bGOIeJj6Dgz8tnuqy3aC3KFjIGwKG3rWBoMTKbvl8wirpXUwJpQT1FHgFVkF+OKIlEAeV3fAbX6B\n",
       "xgxOPJnLJutVXk8GMHB+UNp1VmaHfBlBk72Z3qp30sEnj6nLFOUzDQOsuKvLglWZeEDfLFQ7HHkz\n",
       "ySz0xAJs/7AAAPKPDVjNmhZGFFSE6jdp/DQ8n44eMJGTL3rFjePoM0G+peifoAYTNq2l15aIvkAB\n",
       "ydpvOBQGpJ4ww4hDq0U00B+SWbWhgckeUshS6B5RDYfaLXHiNIkZN64v2ocJI+OapemG2Lc1eIxG\n",
       "0WJPyPTv+4pfx/+hYbOR29YOuGFNCGwQAl+vEy62lRjS3R+sC3zJ0wFO+IHyrSntrQqbF/aG0ykF\n",
       "0qK1QoBCNGbS5zV0/bBEAztShL8wIkkQYfdMfWm8Fq3gCPK3DtW5QKXd72pLE+//hIbj08mqZzhR\n",
       "RksoiGxHGyUojs+mI/5YGg5aiKfOEYA8zoYFwoyPUi9oIJYKtn08jWa71n5+KmKlCm5VfjraUU9n\n",
       "6ughJGHYgkxvFL+IAYSRJEoIZYd+f/+v65uml7ylN4aiZrWmKsO5OCRogTJCjW3RtJT1SrRs0+na\n",
       "aUg+0UInY+vdUsuqiyA1rBhTA32TFTZ0M5ZMT6Or36I1S8Q6QzEDI2vbH2Zt8ntT4Si2Cfuoc44P\n",
       "CvBnoppSkpWYiLwmMKwWQ0p3Xua913tc0O6SsAKy3gW5tNgaBR4BARQtvr+fyROqZMQGEfKGTVCa\n",
       "woYGhzttHqpnWMazfR6N97vY6YJ9DYU6J/JcE7J70tKJjb4wySR7sT5pDd/OwcxkHVQadXIoJtZA\n",
       "p1t5Cvez8Flj5OFkd12SiM9fkFqvNEe3YsXTD7fuvfHO6eO/Q+RSqvlcB36IwA8qC8Mkn2HXkPJf\n",
       "4oYtN1wCAleWhpoXI7HPVoPmsXtlHoy5czaOOZWnCXC0kHI/WgGDHvrIzy4EGXAuQHvfgViAjhQ3\n",
       "fCk3leP10Ie4jgM5xghusCTFP87xROsi0ghpsz6iNeHL78QbL5Xh85DRg3DEuhfTgzkoh8J2Kvzm\n",
       "ZFfu4TczeI9wwgJEilrhaedbOlyBTVAAS5cFKOTeFHhd6QYHUHeXPtBi3Dz5m7Tt9fZ0sGoJIGTg\n",
       "AFcWyWmJ62RVGOwt8RGMM0j79fVDJHKQml4yDqujsZrvNK3SqNh5V+RlysHUwMIQdVtFutL9hZvv\n",
       "pxoC7EcAG0/EWpcroTyzp7igzcJypldU3XJx0lFJbr8mkeRIbDoCQOTfF0chvRQkg4sbvf85AqFz\n",
       "yMJo15hZ+owgb00Dj8Rk9+vg2dCl+30BbfNDYUoO4Ji2cuoKKEkJzSZB/0OX94DEy76/guknU69X\n",
       "6tFHfx5rMTuNtSZoy47MAwWLYAUPqx7+QyZXIxHq8nQniLosknWsvieARrTZvUC05qRx/KMdAPab\n",
       "IwLhyOrKshB+/VNHE91i5yNymX8V/nGeHCkcus/YMgoNutjZZbD4jNNbT7PgVj2/+BVk9f3PZLHj\n",
       "UmAXWIjUOmvDICheoqkMoz58NTz9WcFquCCIaoNtCkYT1IO2Udl+7ACq4xOihlqVokjCfxplwwJs\n",
       "p3wLpeRaAVGku+auloLbgP4zJ55D3giaKsSDy4UzcfkdWLOlSaOt2ajulCRwxIlFJijI+Sf+TA+7\n",
       "L5xd0Qg48jcVLTGUmUwwKi+lAwLyHvGHnwAAVY5euP4mMZkdKxD84DRmj8tL+qzajP5lnyVUme6e\n",
       "XEuueRcAAAMDYz1LfZ2iMK1+A5RHaInWILYKKe3os9q+OkgGCvO3xboP8XyWeFFbDX44hJ2JP3G/\n",
       "nPqKwCsIkXOoGX9y4xxvzj8ptgEwGYTQnGB0xNfeKtgYjG6dPr/DXODIUBquRC2wfAAoCFKD7dvZ\n",
       "KLMpaXWIU/liZs05VLicuC0/OoWsd+6KwIyXTEJlfP+4Hl/fkqtt+cQxZwBjHiTcBtLHDapHrhoO\n",
       "rbj7v8x1nF3QXodxBInG/gQTjZDcMZ6oFf/06+c4uQbVdOdofYqBO4km9Q9vUZB+LS81KWgEW2In\n",
       "3m2uAd6vSuKuz4UvPJ88iLIm2VMXv+9ln41PT/O92wMz+htbNVhfBs8Ix/PYlAwfADOcI7fZD47a\n",
       "cT99aNDJtweQ1myzs2l8VdVLGKxeM84TcsO6SDyHIojaHZdojOV9nqXUTknLDQ/ZyLLda/BAAhbT\n",
       "T4rJieOt75/YPbJpQFrdGTj7fjLyLGSDnHFZ0lw8UsIh4mBp7hYiILdsJ8FBBddRScIWawxtxePV\n",
       "Akbze861pmJzBfRsTBsMX9P4UoAmtdViiW8CgKPbDsM4ExWlTgIPEMuaY7FEnjdEdqmALrR5xaXB\n",
       "07VltH9rd0I1ksWHD+N+p9AsbZKM/q/RoDi//+g7sOYqL5X49pFx4/5/DCgUet2R0Hf/zalZpT+l\n",
       "znZMWdM91Xijc9yqZxaD3tuFGhw/Fe9f0zTcGoTSKP1uQu74zUiHFvHAgQMFdFRolC9bFz0CeRNr\n",
       "YOcgN7/wBryj7c2f/opWM8ng7xHGpk43utU2P+TGSq6dEp50pZMuSTTH7Z8kMV/nJkuXK/l+NhM1\n",
       "0mdcHQnK/LgZ1GFNdaZ0f3/qxhnpaCcwPn2OLzrxmxXH/TmrRs96vveF0/WNXaCe6fxYX/J75PUf\n",
       "i/FfEn2Z/wlr2mWNCG+/Z/ovD7RdBCsgbq2fw36Ex0Y6HbC/v/IubTE1yzP3t4UIOodDWd3T5uYF\n",
       "1w4iAXWEBqbKOkx4/ehg0igp6uLqtK6KmGq/IJnrHcCcB/mx4vmpe1CyqghPJOnDEsEHSRbE+E+N\n",
       "YI5e+uVbMozNk7E912LjXk8EncGSTeWAuOuBohl3aNYsq87cbLxiuR0DHa6QQt7F1+iEMOBS92r8\n",
       "xeOM4CfIc1cMK3QvoSo/VkTlFLqpG8ir9o+2dhn0UwUTWlmo7SbveL8Sr7pdnZlaVx+K/jaO6J1C\n",
       "Ez1ttiwvIqxLE7ec7HV9Eb+ykehCI978Gt+PGl/WRlUvPalxo2qgQcunUGeNh9lgM22UhEDS9cxI\n",
       "OSR6gQsLvfD/uQDKalsuvSuTShzmSxe9qcSMBR9XbOiykK1HTfN2oluwReyF99M8brG5L1gvx/Qw\n",
       "wETS26UZPLZojJgyrd8Jo93I1/0u6TTX5GMpkczzzZoffSYGbXDW+tQ1FLHEy+ZAzBaJJBmrTsun\n",
       "q9xDqu4OjOPUGHfCxVcpebBiJPduro7HhrKTpS7YTzLXzwdZRsGbnKAJByTfto9tF3Ol4gCHaBUj\n",
       "IBAiQj3Qs8yEoSxD3o/0AFj46p8qgmzY9dARFznFOikGuUExkH7aTEnOc9SOipuATrcCTHsl8WCM\n",
       "ieDz0Jtsv7UMxmjUdKZeidGjVwWMuYyYa8UPE1Himgaikq7aNMmyHld/VfCL49nqFWlUC76xiB9g\n",
       "D79M8TfaOltS0r8KX/T1a0cq1RwoNETWb+XtDb75rvgJkCadp+GTRi826QKQqx8E5PgMkuApaPi6\n",
       "ER5BryygotQAS8+V6mca5qbSE/KJdoN+28Fenenyp1g1ewo6waZjjfHtRP9vgAfU8iSI4hTdiDGa\n",
       "k6svgTii4BLmabxiwkiiWdtT4XJ1Nl8aO/KL2XYVjWp42aOerzwptxmNnBTZ9yDUW4YamDW+jg5X\n",
       "yw2keZXQf4usCluygD+viaJknts9/8YCcg6O4k3dAY+ch/hN+OSWA+oOtVyvfi60OaiPj4glw4HD\n",
       "WTLiPZd+ZufFLCHNyRe/LnMNbviGB1Np/7JeiYK+ztt4N7+FNXLZl/CfWy08G5oZpNqe9gvP03j9\n",
       "7i/MBQtZjsTpts01tReNiXopBzzeUaQi8ko8BAnnL3+fG1q/AKL4uI5CVn2BtqWVzWSG8xIoubi7\n",
       "WTRjApRNmOmeEcMRBKT6NLbw0MDhikWp1tq7ypna9KfW5zi3fScljIE2KryXjRxrK4CYzpngjws2\n",
       "7LyprBTIaglGUJ7R6X40bAs+984489L83a1I3ju38t2mNYKBM9k8CUvftzLurgLsMoopG1dbiB96\n",
       "afTgSNr8deUZ+JsfOlXka3KYf/sr/At+iULZ7PMzw/33MxqdhbFBw8RaAnHF8ppBOAGO7l+WCDhl\n",
       "0OGGsOKHcRC+eaxTn3NSDtK6c3qvGUizZpJ7w6yovd3CWMq39G6RQdqhTZYmNQq2DyhQaXNqpDcc\n",
       "sZeSrKTA29Fgy6fttQ7lBtH5bLO8EcSszMT6gMSUY8BiJQuTnyNpEGI1c50c8wpcI4M8+jfz5t2E\n",
       "8oQ1vo2fCZ1ifIYycHiFM4K1/2YtYbufba+zZmBXQimyeOzsZwOkm0rzqRF2yqYykG7YJxAnwHmU\n",
       "GuwzlXPu1UbRonLto7FfuF96u4naYNRBORPLMFA3G+XgEDuGtYNCBaNmOqK410Vt+W4yE1WIR5Uw\n",
       "pOmSCEW+L7t5AiJUNwaP7hVR+fcY+S5gbyNu8kWv5tw5DuQfvgbyp/87LofcFQnJR3AscmPNcINH\n",
       "OFwDZ19vXvfkErmMPjSm4FgA5Yrnf2pQsr2WZwiMSgH2jyERG4UtGaNFXkey5PZRzFiAeci2om/I\n",
       "RYpjXCtXbAMhTQ5VaLaV+VYiDH+PreNKoKCwTOvC3Wyb1dDfMgSRTZ6MJmvmsLbbtHKoZjOc+2Db\n",
       "Bim27l2kqRKq2mgpZUS7CnOpN17CmEIdQx7T7dOh09nr5XPQ9e/5Y7dQ2khhautY0nmAQk06D6EN\n",
       "loLbNcwNOWpudjtL0uoYFOcW+7eq23pJpiqQFzqxcvfCxg3sbeK/Wo0Z4D1BeGp4CSKQssIXEC5r\n",
       "5QqEnT437eTBsVmgsM6UJEJOiJ/e3aR0ODiFRK1NAMUM8z3IM64FPLrW8PWxHkM1WDGn8KBt0vHx\n",
       "eFlVD5dcmD/ncR9CF+RokBuaDQhZstxDpyXYNAcJVCQ6JFhQTOmImhR7hQy+dxgoYORC9KBKRgT0\n",
       "+taeQi1Xgnq8VqNcJwm6vOD2ZGR6q3RYEs2vnLg9YE+v9m8ZckT7XNFh8utI91aJExZMUCZiClPx\n",
       "ovlGQYyLdbQDsemJ24D86Y1tPm3aAzSNSMNPhve/TqKau2NrQfsUvKfnXvSvfM9cLq6JpQIXz6+0\n",
       "2ZI13nU7Hbxn8akM+srNYdUlAXRFuZjTxq1RUUjifFM3EcsevEPo7orfc5SoFUz/gwdg8lQIcWc7\n",
       "kmcb/gBxSzj/U4+f1J2CC/FSvsnk2xKoyU+vQAF7QkdgPuFdqKKAAc8AAAGIQZohbEEP/qpVACcL\n",
       "nwAIH+4UWV6737XvjnN9HALTqutA98KcCgVi2jBDEuv5CLo0p1f7i7LxYSz3kIVTXkwpgGHzM6Qc\n",
       "q7TStXuHmxUDaUvnhWEtbUjf3MXUSUHZpcHSNNwPpg6GOyJip8JMDEx10MbjycO13KByGKxQjmT3\n",
       "P26RPNswwodoTbEGTfygQKAVeZIk5CFuGrJuJlqbWggKXD35EemwdkrqUvhvaTBjfEC4OX9mQVxg\n",
       "MsYA8ooN8YnXEZ+6jp+pjQ2vZoe9+NC7OMsBe9F+vJBy8cqgzP/F4vCGH1JSmXiBNTLpfR0CTql3\n",
       "wlmq7NN+rydUOWVI5LfA7Ka5eyf/z/ffmhDrNKqfsdgobJBc3NCHUCoD5H55Pu2zBTsCI+A5iaPR\n",
       "qeKYwFHIt/jtQQmDDR+yMLK5WoAx7+Q4LMVUx3jVBlg1QuOVI4nSEuuYuFm1CKLOntqmVlSHj9/W\n",
       "FtAJXMtdyaD7NmRPwk4JDgxUVdXvtrO9XCWXofXJoHN4XzFz438AAAGaQZpDPCGTKYQ///6plgAC\n",
       "Q/T8K4KN+OzO57LUAEQfIN56NMOY/qijfDDGzfnoFsdKh9dbsUL/0JM2okDR+Zedf0nw8G5tSNoZ\n",
       "qhLTH7x6Sv0bVogdk98AVM7rt/dVh6NPeBl8xaQbvVnS0V/hLylfMWH2EbJ6fH/pEgV+WvpnkRf6\n",
       "jozQ22oez7g/EOFCnU/PgJLMhsr+V+XDBoBw5c64c/GMPDSXSm7rdrYlSTIuHkHgcWTftaZK182s\n",
       "NRH3pAQsH+UHvOOIkCjTJPL/yZF/SxHm5IhOlOMAxKezFVmWcji3cPkxZWJW+8MMUW7ArhlfcZEz\n",
       "3hfiejNMRmJS+CCVlCSDKfpnj68xBSduYKp/vCZsSG5+b2QTVw8Hwu2cZ9dpVB0TX+5NyPXtqbKY\n",
       "3Gfhz2smQf48FXxE4PDpNuHRmOAlBsATvmn0Pc+0YET/7jXgAAATiBJ/X9mR04toWbfK+YBAAjbB\n",
       "6TNQh9ExQOZRNm3iWx7dSNzYzI1mGVQ9WuGnaX8iPAZy+0twCHgJSJgXrroJ49xEtgiUMQ8AAADc\n",
       "AZ5iakN/AB4VVGkyoGkeyJPSbuoZpa0TCNXfHofxi733J7FZqQ2lKtKZ3PEwPG9QKyJI8ySiV//j\n",
       "BEf9uOiKFmfC/dbt/3vAzyM4rzuApXbCczXnL42COTIusWkiGryzqHSAlJ6Hu8/DOcMOJ0Vn4TW2\n",
       "chWTFMefohupdNko8S97aVRsrwUN+JSVx6SlopHGu1Zcho7EuZ/Ap+axX2PZeO337mVl35xRoaFe\n",
       "yGH1BL3A5SSMUs2b+ut9d5Lutbk92FZxdr8GPXxYjkzB/DEZp0nbNzU+XksARFcwIAAAAR5BmmRJ\n",
       "4Q8mUwIf//6plgAAAwBqTGPDM5utABd4ObjFuRdbxb7sZZW2+EmDWyhBazb7t176UNkXUj4nlLv3\n",
       "q5x+0TzYfUBgh0sV32OskOW/9C+pl52C7nfaPoc7Ipp1LuY4Fi8WJBif3qZqml0KF1ECGOTmpe8C\n",
       "KAGGJ/sWSjzUZ7EfEBw8QB0RKdQXoLgoIunsIaeQOy9rmsuYm9GjQ8JCZs4drLBLCUs+h9xmZWvV\n",
       "7Irl7jhXS2u3zLAzxb0567LnBPCTnkNmeOnvQq0Cm2dvAuqtiqLfARgB/5M+tFiv7Sam9cHOiMPw\n",
       "gf3LdmWE4MqBu+exoowwDyZ9YWykx0V7ZtVIBBqjv+0JrI9cVfpIv8/xbZFdqSs4Id63Di17AAAA\n",
       "zUGahUnhDyZTAgh//qpVAAADABsmyFWluFvywAZdMYMd8BCFAUm8G365qGPk3DlJtFbjcpPxAWZw\n",
       "Vb7kaJqJh2SeuKbi6YsrYpoJQVDHVPrtrpGD+15f2HiwkSv9WZfsh/CxU+1wB2IHAJFVCCrCH6Gc\n",
       "Tm70ZrRx2KUaAGibN9WHmhi4jyekv7kLcrNwdZP1ivMXu197uoduYufFMouvcOy87B3EnpnqbsOZ\n",
       "TDf+alGwt2tgXSqzYRhjKBiCUMOf0IO/9V+4mVv3n4VlQ4EAAADJQZqmSeEPJlMCCH/+qlUAAAMA\n",
       "PQdzPoiGa17aWhWSy+QIXnUuJkHURsYUAAZ8LXux+I4IlHw40ybJTM2rC9r5BLGwKdVcT9rBUFml\n",
       "YjLf+2Qydbk1GVzOGXBiU62RvOJflXEHpXzi+W+7w+LRLAQjKK/4LrE+sFt1667ekKEXefR/d4jp\n",
       "AWY09aLtj0OFy2KakSAWturYZb26YP93WXkoc9/AxN7rUqzlYUZ3GalIn/qiLvHiHXNMKwfomOTa\n",
       "/vKOqnP8bpb2ELaBAAAA6UGax0nhDyZTAgj//rUqgAAAHoQlob1AAV1uOyg1JCrDsVxFKjB+jif1\n",
       "T9r3gKnMoawvsuyQHq7amQDw73qNdmUDPjJLR1pVztLDFD4ICdR2wQXoMERDU143ShJiX75P7rJ6\n",
       "3maO9kMGWvR9FTISeWN2O2+WPnKaFG5kduxDNOPnSGsTf4xqUYdKkpt5bn8IwsDKDy3IrSkfEjpe\n",
       "EBZCX+Sr1xn4RAvZ5ZGvGoy8lmXWy5mnHe0o0Ie+Fva1dCJDdSR9GBlZpWXfPgeugJK7nm1k07TD\n",
       "NDBXdmeQYh1uBAaQgfiKth66Qm/BAAABBEGa60nhDyZTAgh//qpVAAADAIwfNkjfIN+LLP2pp7eM\n",
       "oEtt3Jl1vHdwRcBTqrLf4IDILxXaypzPtfZAlwAADXKsn4FweHspiISvWyXG41FDUM1jMXrF6okz\n",
       "Rjn/qA/pjTn4DS7c7Jclt3n1Q6K48RNtp/sLADL9ix2UH3Rh0r1JBltiZO3igFEGxrpdIa1RchAI\n",
       "Cwuc77hUna42Pf+CnwxO0dwyRxPy0CjWsrVCWc1cbHl0bEkdlEQYrw4RypBE8FMhmHCdKDNwiZoO\n",
       "fyHkIh/yM8a2unq9dAJGxYDvt88dDlNQtLfExUavne7VNBFvpFZBLmZerzCk56MQEAAAAwKo5YYU\n",
       "AAABPkGfCUURPDv/ABWMYMEdylj088AVKJ7MZqDpoCbWvDUjEQZjK9E99d4vuQ8Fbbbbbjl8eeem\n",
       "O6IoasbOEn2DY+8Mg+b7TwqGjHs2JkdfbgHQiu5irUhAnT8WGHNXHf9RhJGPVhB0ZS0Of75J2iUs\n",
       "5uRshPrCUduSBH1tPeJweCgs3EztSV62rTdvgdUAPAFtuyy1mCzX1nl4QECcbeRszbXlPVf7abiS\n",
       "P6+c2wVSImxL+QzN0V4ENDcL+E8fADeXF0dCG1oyBXVOQ08SVaDeVy4vXQm8GdaT1cXUbv532p9V\n",
       "Xe8Ti/w3zOxQr7GHtgQluDWWKcxtgISzEu7qxtk2n0S80g7MKK9ZX5Z5p2fxIN4P1PuekCv766YO\n",
       "K2mbtCbfX/AHZ1Pc9qDyzrZa5PnhOjGeh62O6ucUP2Wdj10vqQAAAMIBnyh0Q38AHl08tsuligOD\n",
       "TCEQ0bAeScgh7VAAfIw3OhFFuETDF5GwTRCxOEClSGIdHOCNjhjEj02iaAVyw2WIxuVMuupCBdXB\n",
       "/gnjeejreE+3V7CJAMNgMQpGn6qvRG1Q1Rncs4j4VXUz9UguImEt/S8PLjKd9FkrAq5BaGzhCViI\n",
       "xpkaesCK4QNmlDC/hTsDjWzC2RDex+DMCRfP57UPAp610MkohFj0PJu5rF2ceuOmlWb5BRe9m+eM\n",
       "fnQOpa8HxQAAANcBnypqQ38AHmKIt1tXukCmHNEIkWppJ9mcbpotPNYXb0QzghjbTMaPpk+ypDiH\n",
       "ds79VqHpq+/z9AJV9gCdr1lVM2GsQiQzT/8bFObJe2a/isB1epwcIa9BKlVeJUeRyzJZO0VRf9Ck\n",
       "DtWzyklHhCyr8aIXJGHFRq38WG1/qT1hSQxWPOGAEPblGsUpdfyXY96/tj1F83w+JwQwqJquzqT/\n",
       "AyWRISSaot6Sgqt2vrpfRZW6ckYIffsnXSUHsu9KfeHGAVlIMPVW1bBqmxzZo27ssAZ2IYARsAAA\n",
       "AdtBmy9JqEFomUwIIf/+qlUAKDR5lAXTlGvsnk2oDXvJrT0aLGSgyJlFJV/I5gch65Geg33UkEne\n",
       "evFyNl30+huFeB1v6/lketvAXrXKFiQmSORn7oSH8BNXN8hQVhNkcpGm4NDwLjfNBprjmnNyKHFU\n",
       "8gPrCQuN+rhTIJfgFx37gdvtHHr+pzK2Lx1zVxVTq8Qz/26Xb+Z6prEAKSQY/Bg3TlzXwXIyrC7H\n",
       "FD/9yxp3StAKmHaq4fGLpljJAUD51gE6oG8/jyLzT5p6IgKept1f6m4a9eDI5LOMm+WMzrpu/JvF\n",
       "/5hxl6zOcywq7bzRE+Bm/ltwkTZm+80LVjsNkqaRjxDkeMlUOo+Zu2ZwHIYLbrrs3uwZsyl0cmKo\n",
       "FKdKBFu0qse1SNpHBxe51idmG7ykrL4Ksm0o5yeHScW+20iFTwXQHYCKM5/l1cUaXDemG8pzYL4c\n",
       "63mvRL1bMhEJXiLMXngnMtLrOT4qFWIa52+tjyl1NrNuIHyQiNUQmj6LWqnbqnrRhOHPFlYe/66G\n",
       "StIWvr6gUlXE5Ud2cB9lVYVbvnW5dmg4OW8tYcsA+8rVnamlKv0WY1B7wWyYOL5bunTfFMsNXkdh\n",
       "5cpBTgcVpEf2CDzQRvhHaybLDR4wAAABFUGfTUURLDv/ABXHDCMYXmf0zlS9KyzS7vLlrQQK1+Fw\n",
       "8oLVCdSsBNJrl9BT6WtiZKl2WBKAnmFwVxvCqnsM3+0tT/DpHpKHxqJo51lCrNYtrel6F/O/7aD9\n",
       "m/BMvOmQDAA3FH3FtxcIVBj70LzPtmFjMjtzuntfQskaufCggnNz7qHvGJDp6KeeMBGOTjafu1HO\n",
       "0u1vO/MWcGqO0ik7+Pc1mBEc9Iwny42/g094GLnSLZWcM895Ct7nzekfiS13CMcXo0eqDzuBgFUG\n",
       "m8jFS9bYibFDwCHDtrrmJOgwvRuqWLXTGK87NLP9F4rCtXnM+3yc/A3GcGo6uHy1G8ddaFYX6tgW\n",
       "6qbVglepEkCAgsqF1bK2NSEAAACiAZ9sdEN/AB5dPLbLpYoDg0whENHlCy3FgAnWlt0ovDpV1pbP\n",
       "6806M06g9VU0/r9yc+b33txVFRgXOfvZWk0M3LNFRhn9idsFUv0KATnR5SKge6l4+pdt8mULsYVj\n",
       "ew4KqhZvvDyjREQg9vsrV9nbXdwIzQmFrSg6JuW2tQNmWGcnXgQmzwdHgD8jOCjMOsL9rHao0Hri\n",
       "dyB3O+vKwIIh2HgRAAAAuwGfbmpDfwAeYoi3W1e6QKYc0QiS+fKFgF9EWhEOwYl3lVvKz4dM0kl8\n",
       "28k1Ld6/afComQkAI9PvU88g34C2OL5a9y8wYJjJMAJkes3KQzt2qicZolX7SLiARjDw54JfP4BL\n",
       "rw81Z38S56DixVcmfuie0Pj+7EV3NMU4Y/z0SAX3C6hsJUvcEufUno9hHtBYYzaTvaeEBiLeFrmd\n",
       "DXDmyySxD5QdSaCl/TWFIc9nRDnSqAF4zigfeK5r8uEAAAGWQZtwSahBbJlMCCH//qpVAAADAUDf\n",
       "dQPZM4H2sMKefd/Gzunfaqa4scnmz9fLKj2FphEiuOWu/7EQyXY0wLYWQv2h9XIvJfwES2Rryv0b\n",
       "k88TkOh87IQAR6AX7V80dFqFXTDq3r6n+jHxyFYC5CE3NHobjX7zhe5HBN1rcb3mnAZYEY1QTKon\n",
       "tV6jrRJoRCHaJMMPNDW5bB9jGLC3+sCgVffbQASM7BbJlA/QqnIWT9mGFQBeyORDcs7F4CsEM0xx\n",
       "DFUNlDVYiYKieLLp0wL3J6bJryJyDakV0nx4G+Iej4txzHNiWWgNj98nxdxBHjEdGKpGKgsuZWnI\n",
       "34qwdI/HiTgtnnymXTFXtoo65FzYhvw8XyA1VBadRrPtdoGkys5Sj069Z6vtUxHjzivmeXXv6NJU\n",
       "I+TnBWKS/t3M0E58PpXvUxDvosjbdCBzMQhv/xxD7gTqfleraHlzZzjaLZ1R3U7T2BvWybPrL1El\n",
       "GO499LY6LUQcXjcNxlQFGJAdV3WpV08zsbl2MfhhqA7Vi79Tklj7nOBqQAAAAQBBm5FJ4QpSZTAg\n",
       "j//+tSqAAACgjXFq+AD+kJJC9tsBM7+Ot56UY5mSwXhH/AYfHDfNy437lqLrUFtnzG2ksFYgyYU7\n",
       "2uanpunv3y6t8bcvpghom3lcdwTKx9+uxoxIwlgQgleRoAD2L4jZbuiPiSuKD551ifk6T323iqBO\n",
       "CNd6Z5jVsAtz/+Rj/3/4i/WxoEWWGf0rL1Bn5Pn1zdFo3THN7SIJ3lr+70PleJpjhjkEXi8Uz1jm\n",
       "BDrQEqcB9P9XqSK7ulNtHyqmLgmjRKlc6nc5o0AFRO2oU3u2MSKlZfikxNakGIwE+NbacGKJky8E\n",
       "LBdzff86pc0Sl8tJJagAFUI2AAAB10GbtUnhDomUwIIf/qpVAAADAoHedxj7EQzPjJuSafr81gLn\n",
       "nP+0EBRaGen2tAORPdi0qYXLZtWMTNbU22LaWAiP+gtxyoqDbj5a6T/wNr7bzkngpBEQ23c17+/q\n",
       "V6EIx9A+kmtjIeb8a3f2aKiCyUEPX5EdwnLcqmXDHHJcxQT7Ldaw+MUqAsc6GmD6TLLfncKnrv47\n",
       "T4H8JD3cWYViFcqvcJ52/K+J1WH6o1eCfD/8Bwyh0sGZYugj60VCEQp/3Irx3njjYk30l+1vxn38\n",
       "kfy1kmzRBVf5VyOfLf9UZOGfuaVZm0O66n8e/gtSuJ18wiWG7UbchdHD8sAiyXnUfRdV8QUHfbn/\n",
       "Yod7o89UJSHYdekt2TvECuCfHnyBxSReqAmQ+FhRhOnmwaZ7mb3gK1R7eHMDCVAzvTA0FvQ6+bal\n",
       "QiCUCILN7zFmWvkw+0EFcGIYlTpjghJ0DGtOHsp3uc1aVHMwymyLjHaTiQ5Np6dKdeJBHuVKwmF9\n",
       "VXcy07oWUUUJkkRtIP75CUU2wonofXRiOmv93gG1LjHKRUk/w31NzGRvByEEIXD4l/uu7Mux1K1L\n",
       "exOoGXJOXMvCgZrgqRL5RKu+uEw3XM4Xe/HI5b3xNJnpjKoFBQAAAOpBn9NFETw7/wAVxi4jEWpn\n",
       "xnaXN2G++Xd77K6UO7GojfBPvh3gFdiwxyLQD+Glv2wYoj6WoeFgW9lSzSnwIvGyhWQkzjZ+0IC1\n",
       "IXzPqtkVa15ztBaaM62QjsbgSNSLPvVtW0bDpd5cFGXW1R8YKadnZcOdYIEdn73thCG7+IFrCKR9\n",
       "6yr9t9uXZArXoWgcdHGUHzEPP8kiHdGQKtvc3QjG/VhD9Poe3l8ymY1X72g4fYxguC4T6ieXi7OB\n",
       "wnOLkeCi9OYVVsQjWqdyxrnIwR9eU8FtOXTLAEFTYFQG4XUxUDGWM61QUahXu/gAAAC8AZ/ydEN/\n",
       "AB5dPLbLpYoDg0whENdAVVwMj6SKOOfWrsOL8obr+G/IfyVmZC0xqGuiZKjXTB06IAP5NZZDu7Nc\n",
       "O0pgtjwDm7gtw3EktDUpVpvfym6Guftza56+kz5d066vNtbHSlAAnMZDnwgfIkJrvzU0EVFGrKfB\n",
       "apH2WD7kFMNhmLswCVVlj9wwpZQ1ky2roYlT0YLOTM7uP7DGMkBoj4FyExl/D/lZeJOV1DsKunn6\n",
       "AQcfSqAA2ge4MiAAAAC1AZ/0akN/AB5iiLdbV7pAphzRCJaT9HRrLnqoe96F3JkGMlmvc5rx97P4\n",
       "eTbEhpic66c6QSYkpNMMaYUsEYJ/mFU3zODZJsHhXNghSbYGnckR+4HBcSBjM8htUsLCYO8MZGN0\n",
       "66vWf7OytphkG4CeUqyDs22K1dkvFJ7J/JzLybo+tjFDs+aeQonxZnK5X37dKK113oMj0sBNXAmz\n",
       "K5RdFZa2Ntb5iHlUAROIMnT6A9BQC9jTgQAAAT5Bm/ZJqEFomUwIIf/+qlUAAAMD6+9ojlwJbnyc\n",
       "Opl12+ARlyFugk5RW45L1YIyKrMZWWay378yOgEW/uyxuQ3JzGmhonyIJRPC6cpaKNYSaMPtu63M\n",
       "yGLpcFFXRdie4IjqtcvNndS6zzG5SdqchzEPl00XaLF0A74/u5eIgSxx/vC1Htafk25CqFjkBnlD\n",
       "JWPGZSBfXHDZEguzGq/dsNVldK35w5BiK2nsDoKZL63nOHg21qq5ul9ltQl6BzG4B8baoczq/cer\n",
       "X5szqr3s84EG8o1lB51uxt+lKY7efGLCMBVyDb8pOC6aOQDpXoouL0p+j/3coO+sEeAvRN8F6cTF\n",
       "it4GCZWp9pnJJpzh596pMiWhXdmpTMl5LvdOlRcBYWVfg7wHGACRO4wnWmoghrkFOd3OJB+pFTa6\n",
       "J9K8IfMAAAGAQZoaSeEKUmUwIIf//qpVAAAFL/q4fkHXb32xETi6j1Zq9G3dLFzirGOP6cisA31S\n",
       "xOWDn3xXkN6xiSPjl3EI+4FpJ5mlxvtxJF+1vn16rQwD7Dkv0oqEOva/s+cz7M5VcgJv/SgQlT+L\n",
       "4XoOhU8b5lD/XOZH2Im/3L53zYb5Nmp5u5BxnxgZk6aK+wqj99VDKhLDTWQuTd8NP6p3EoKoq5CA\n",
       "N0w2ZyttvDUxYcozinqQnW7jbG8kpkMXDAbLqFiHbUlsv/1EpjOGW40tSe5tVNuLhVWsK7+VQG+4\n",
       "/F628KgLpx32kypJ/mU8S5uI28ldYqN7Hn5Jaq+j1mdA1NKiJwxpvYjB9rddH+PqJ3UsXbnroRiS\n",
       "4YbeiH4n2e/pPOaZ9Ysh1fqOXyDlShlWttSoSZWvj3S3uXsEP+sBQLvpfGsgLx1gzWqeiyZw1dqD\n",
       "72IFRl3Wmqs/TxoGUABJAbitDov6N1oey5G+F48K5dqq9RRxdjzWSTVIOrnjVoL3EFVBAAABEEGe\n",
       "OEU0TDv/ABXGLiMRamfGdpc3Yb77AwI0XTIbIV8E++RztL/IsMQ6PWqFsOo8Sf+nWF6N0RVjExSb\n",
       "dGMhHdyjGCJJVSV2CBwFNKMnjmpVMckrtEssB0igKe955FBt9a483VuzXxf2THjzMQYwMKGcvU2P\n",
       "bSxeGpvzQjvhQjn+1xh5BMaX2f4pa1YvJE5NVlAo/7mO6tb/b/AJb6v46Otq7kRuKYdIvQN9e6/U\n",
       "0aGgrOwJHl2U6VyWQ3VLQd29DKTJY+eBHplrUPl5AQeR85u2LSBoiOsVoGy+8lZ19OOEaxHHqnHJ\n",
       "vdSIyOyzcnyUwZAsm7iRYWiEYdgzE5+nhAErWepTkmWOinM5OSIJkkShAAAAvAGeV3RDfwAeXTy2\n",
       "y6WKA4NMIRDfiE1c/GjPHwu3FBSA15lw3EIQqK65NLxgwFpH2OGCiCnCxlpn1+zlb1FeL5+YJAfi\n",
       "ThrRkRnHfp26JufKgWutfITsKWOBC4t82rpLvf9ndj67jfx0kWpS5hUt9mtkyh7SI3cIgKA5op8I\n",
       "Tqplfs/H79tf7DHWfud4e3BapJhI05/6CLmVu7vBK0zDRrTU3fvkBWAjW1P1b1hnBanhAG2gk0km\n",
       "/1WbAwd8AAAA7gGeWWpDfwAeYoi3W1e6QKYc0Qidx8s/oqorOSLNeGnnRiROjqrdPtLrYZaSWSGS\n",
       "cIMn/1LcDTvELlmvQ2aLQE59y0iw/mz1HT2ajC+XearALFkrCmc2bqEsPOPjeupxsDWOY9ZsewlK\n",
       "YLOEgfdSQXfWqdTZHTvuavgD+Yj8AN+2JjUVN1UbE0HVEDbAJ/ATGPLq6DhApp72uPM5SCJKeSgB\n",
       "Glc1mg6uBmoADNwciQjctzrXUN3krrQxMgiypNaKn9+79o1dP+oLeK+X4VBZhTINE88gpbHiPd7U\n",
       "8IAzISo7lmDRAqwAMrT4LV2/fYkAAAD+QZpbSahBaJlMCCH//qpVAAAFm/q4JSBZgg4XJucXUEY5\n",
       "diGYVLqYUdmWgXgY6ZsalW5RL60BOdz8A1SSb4v/YsSAt7Dx9pvlYn6qeYS9Y09ysG1eeBuHUBpL\n",
       "+vrAYx1r/eSOeIXSccL8GlxnCKz0s2YawxV2yVkiaHKhgjc9uxoGqP5Wr5qwflNQPJFbFHMcOH2P\n",
       "ela1fYVKL272Nvg8THnqqtHpMV08B2zHwlkEHsXu9rj2BKu2vMPuG8VqlFUOtHDo8lqYz1mTtKKY\n",
       "4Mk8z7uYYj5mfolrjPdDxt4FMwKP48n5faK/v6HAByrmRccmX8yCpEWRSz8lYaez4oAAAAD0QZp8\n",
       "SeEKUmUwII///rUqgAADBf1cB7i9HvP6sj2WPEzVRL5qtD9QzARVb6j/vqLX10v8MwNHyLW4aLhx\n",
       "+qbCctopHcbilgYf+26ovyzuce3+TK4o4k36tlqYtE0h2/Id2B9J6dJK0EHe6DbAQuSRy2j5GWDQ\n",
       "GCrBPt/SKjuM+qVdeLYvoziVHMPGdoJbjVlxr0SZvGyFAkVbPvjc/yeHZZP9KSmev82/yvEbV2Ht\n",
       "7KL5NQ7f5MASWmuui0Ms4c3Jwc797aaISBMzfS38+g4pELIR/7JGIc5CmlbBbtlDXB9dXozUzHlG\n",
       "T/abtWFgL/jJac18wQAAAXpBmoBJ4Q6JlMCCH/6qVQAAC2952GcQaF0flhF7W00wimTuQmqishyv\n",
       "THe9/iWCUSqKHuoqKJvBvqX1USSVS5znkzRSiA3QFHi/+Srt3kcqL/sCcalzjDOSJEIWNAy+MQfF\n",
       "wodtHP2e09kXLSbu6lWazKr6r9KknMA/Co07KPnz2o3G1gIUsNYCDx1AvgBMEi7PeCEb9xX2thZC\n",
       "xZitqUZquf9j55T1yuJdc7/tlpM3aBPyMeT8NqhHjExnmKXIQNVOBA3jpbeSqOJIGJe/kV8/l4Et\n",
       "AfDgMoPSzAvZzVYhG5AwgNwX2b2Hi4ulUCLsYexmYdYoHutbLmqejuoQBXw2WJwcjBkJAbPyBH/B\n",
       "HVwFBH+SE9uRKkYyufd+2VJ1eTQ1K24OZhEeD1L6h2xIfNs02zZgDgVtf0iCBbPeQVDnTkZAOlHG\n",
       "fubvGxM0KIvlDqTU3EiyYqe9NRc7VM6zjwcy2f59JZ/fL2XOHgH0RPG5usctZBloAALI4VMAAADb\n",
       "QZ6+RRE8O/8AFcYuIxFqZ8Z2lzdhvwBcAQ2KFwbSC1fd5RzJBa2ye1Y2SlwTMjJkKhMY/BcfD1uM\n",
       "ox2yaiKfs/y5j7GEvmAqiIx8RhFjD2RcC1IMkpaeHUbbWt4puXUyHWYn1oTOUH7JVBDBjxijiJlA\n",
       "xBG1p0U6SM/jk6Sjk30l7AqRdHbViqBcLsKH3bxkGpc5TDJCEh8mzRVKIdXDasWoG7bAKnbmgMs0\n",
       "gSHRnqyLFZi2P7bZ0B2YJduGH8/mWAGrIXcgH5zDX3y1061NbAAIWW0YRtkb1wUsAAAAmgGe3XRD\n",
       "fwAeXTy2y6WKA4NMIRDx0oPkxQI+oSnFXrYmIDoX/lHVNKuRYKegzEBuqkSowEZVCXd5VJNOU1rT\n",
       "fwzisYqljDA1YbbGDE7Yn2nJTUXhPgfW3k7UcUVb5rOwkheeCMSLwu6Q7LwuvG9OuuEolzr0/hXh\n",
       "kFSEpsUcTxbd0s16a9SRcjsdc0URRbLfCTKoAFz4Cco2AvIAAADOAZ7fakN/AB5iiLdbV7pAphzR\n",
       "CKxmeeEYdIPcumO/D+miAwguQO2BlKI2A+LtxCjSb6irqu6BIp+a1ZiFhCLwKwAo+JbGrEprVk9+\n",
       "ssow6TjJQuTMtUOjGvN0CrOul72yf4ZG5+KAuDrBTaSmjCpVYdtQD19orrD8mvw1PWKq51J0Mz/F\n",
       "2suBHPTIHksw/Fg56G8pDXYnMF/5HQKa8THAWjySqM0Jvw33J7vAorek2uekjUqgAmPaAKkzmKyJ\n",
       "SaJjvV+QCScHT4fnc+MgR48AAAFZQZrESahBaJlMCH///qmWAABVP6uH5CvG9wnW9Ll/sa/o8b4Y\n",
       "msjtPkiErpwGoU7yrmS420bzeZBUNMlOsu2kGOiz3su0AIRUxrUh7eFFPDfJKP87/b60WXjKv8p9\n",
       "ooiJt42aaSzW9KUtj5MX3ODVtfbywJquDIigg6c/wL2j6E+4Vr+eXi4vvq06j6U+eKFnqh5APLPH\n",
       "98PteHlI1DmCElJBPKK72hVnbXxz29OM2Fi9vEJvXYOwEKJiaXmSWFuOPox2B9cSz+dMP4+HN3oF\n",
       "xmrdzL7ipZCZKxbrkFOt7hANnyYx//ph9AQ/r9+HGJP3ENNoNaL7QnAoeJTvql7KXwSMHMsM16Kx\n",
       "pI/ozYQrX8diqp+d/VoF0VHZ4y0k8hOKM+cJLHw3/q8TPgHMPxxu2oy5x9gRIMFQBmcpP/FfNzxR\n",
       "FZ3aQBqLHvkcDwax1XcSRO13KBSwMK2AAAAA20Ge4kURLDv/ABXHDCMYXmf0zlS9Kyz1ODjrgDhZ\n",
       "r3yWffB0qk2OzyDMBFnEPu63I5MqmSvmlnAgkoR0zRTRHR3odEyckw63uw+0pf6VrWFKihLiwhjW\n",
       "watCe+/ESjGKdaZjWHiUmp4CPsI14JyYUI3Fq4IrcxKEC8CfXKzCYlAEpKBh3xsHWI33v7fJ0LDM\n",
       "oLnvdEitAzS5caurvepdLkf7RQuikSr6zsR+y/nHEsw5fqr7HJ82PzoN0J29RQR53oQAVWopTB8D\n",
       "whd2dmMhOLHoztPX9D8EIrGjiQAAAKQBnwF0Q38AHl08tsuligODTCERF2O6sQfpjkgY1iukFF9v\n",
       "YXAKsMJuTzvUmYiCq0puj77WanV/IdEdBfq94lg1w3PEqMQo+tzfrhqLZohN3x5j4KHeFr/bZotD\n",
       "1uYypPXRV8gcOguaZMgWA0G2iRwzeWuYfB2k49tEal5fj23wqx+hH0RLmAqyVVXv/LU9oossYQAo\n",
       "7hqTdj9bu3bSXRP8xSpk+gAAALoBnwNqQ38AHmKIt1tXukCmHNEIyHcQ9VROKBDSLmcJPa8HNAhw\n",
       "DvM1S5i0px9Nq7JZmkDASiGriFrIknzYMCBM3CccmQYJ0PCRUwLSz+y6FparPgyeqZtxusGBi7kf\n",
       "mt66K8wNsS7qUnRrjXRSStd8zbXgmriWU+ZGi4sMOaetIL4xfHEbIfk64WZwdVezya+gND0K+NF6\n",
       "kK1wABGi1IvHIGTHU2B7wfh11R9Faske4C/9nyF6qwr2/MEAAAEbQZsFSahBbJlMCH///qmWAABZ\n",
       "Oc9IWGdd1tc3h49Vs8TyVl9K7SRgZD5HdamLuGMbOB/+6hqRkZL1xt2ljk9TKAJZPBGls5yBOfxv\n",
       "LP+3e+T4FlMFMe8vf03gAznEhe+9lFxBFQ/DFlyFUrYj/9DTng3jlIhLB4KkucU5W8i0hG4Et9Ot\n",
       "A2JFgO+4v2LRutTtaMbFbJU/V1VC0kNMJwMi7QnNfM3TDg3yLBSVrc4pmo1HjzkPq4+qKSpekxOl\n",
       "Uf5DIC/IGZSJGME70laXwh4CjkGrxZOq5P7VeflynZDG+lKpNZS92o5iPATV7f8u0qDXP7chVpmU\n",
       "+BBbP6SU5NWfEvIc1wLTEtt3I7N5mUkaogLK8N7ipuZK2a98GQAAANlBmydJ4QpSZTBRUsN//qeE\n",
       "AAC+2hgECu9BuVzh0Y80RKRsg7W0h7gTSLD/0shlH+Hu8pH3SvaSDFCovroNwskDHqHlkNlLhM77\n",
       "a8BtcGYGpNF55Dwo9Fmzp36XenNw/SdYgHUTLEdHCUUpQ0Gye4o1CHymdFJpq22OF/7k5bYQabZn\n",
       "qNuoUX81XUrhijWaGt+dGbBUwvg8KE8XsvwFvAMu/uv/K1FhmxqBjZZAnAQVNqmVqnVz8K0JY9vO\n",
       "vPLfAqLS6RI2+FEaXGSUDJQHhMJdgGSFrFHmEhnxAAAAkQGfRmpDfwAARWvSSBw6Va9obCYaGsc/\n",
       "r7FHQ+Dw3Y68dwpFVxi7nTg2NhuUGLL5jk4TI673CjrmqUCw27AraNVq7911+1iB+Avpji2kvMz9\n",
       "VBBUgDReXz7weIsuzROKemMOT9K79zzf3o9otbW0gejlJ6XtQwC1T1EeACcEqFMwz0FU7gETdUbh\n",
       "S791neKAC7kAAATfbW9vdgAAAGxtdmhkAAAAAAAAAAAAAAAAAAAD6AAAD6AAAQAAAQAAAAAAAAAA\n",
       "AAAAAAEAAAAAAAAAAAAAAAAAAAABAAAAAAAAAAAAAAAAAABAAAAAAAAAAAAAAAAAAAAAAAAAAAAA\n",
       "AAAAAAAAAAAAAgAABAl0cmFrAAAAXHRraGQAAAADAAAAAAAAAAAAAAABAAAAAAAAD6AAAAAAAAAA\n",
       "AAAAAAAAAAAAAAEAAAAAAAAAAAAAAAAAAAABAAAAAAAAAAAAAAAAAABAAAAAAfQAAAGQAAAAAAAk\n",
       "ZWR0cwAAABxlbHN0AAAAAAAAAAEAAA+gAAAIAAABAAAAAAOBbWRpYQAAACBtZGhkAAAAAAAAAAAA\n",
       "AAAAAAAoAAAAoABVxAAAAAAALWhkbHIAAAAAAAAAAHZpZGUAAAAAAAAAAAAAAABWaWRlb0hhbmRs\n",
       "ZXIAAAADLG1pbmYAAAAUdm1oZAAAAAEAAAAAAAAAAAAAACRkaW5mAAAAHGRyZWYAAAAAAAAAAQAA\n",
       "AAx1cmwgAAAAAQAAAuxzdGJsAAAAtHN0c2QAAAAAAAAAAQAAAKRhdmMxAAAAAAAAAAEAAAAAAAAA\n",
       "AAAAAAAAAAAAAfQBkABIAAAASAAAAAAAAAABAAAAAAAAAAAAAAAAAAAAAAAAAAAAAAAAAAAAAAAA\n",
       "AAAAGP//AAAAMmF2Y0MBZAAW/+EAGWdkABas2UCAM+fhAAADAAEAAAMAFA8WLZYBAAZo6+PLIsAA\n",
       "AAAcdXVpZGtoQPJfJE/FujmlG88DI/MAAAAAAAAAGHN0dHMAAAAAAAAAAQAAACgAAAQAAAAAFHN0\n",
       "c3MAAAAAAAAAAQAAAAEAAAEgY3R0cwAAAAAAAAAiAAAAAgAACAAAAAABAAAMAAAAAAEAAAQAAAAA\n",
       "BAAACAAAAAABAAAUAAAAAAEAAAgAAAAAAQAAAAAAAAABAAAEAAAAAAEAABQAAAAAAQAACAAAAAAB\n",
       "AAAAAAAAAAEAAAQAAAAAAgAACAAAAAABAAAUAAAAAAEAAAgAAAAAAQAAAAAAAAABAAAEAAAAAAEA\n",
       "AAgAAAAAAQAAFAAAAAABAAAIAAAAAAEAAAAAAAAAAQAABAAAAAACAAAIAAAAAAEAABQAAAAAAQAA\n",
       "CAAAAAABAAAAAAAAAAEAAAQAAAAAAQAAFAAAAAABAAAIAAAAAAEAAAAAAAAAAQAABAAAAAABAAAI\n",
       "AAAAAAEAAAwAAAAAAQAABAAAAAAcc3RzYwAAAAAAAAABAAAAAQAAACgAAAABAAAAtHN0c3oAAAAA\n",
       "AAAAAAAAACgAABazAAABjAAAAZ4AAADgAAABIgAAANEAAADNAAAA7QAAAQgAAAFCAAAAxgAAANsA\n",
       "AAHfAAABGQAAAKYAAAC/AAABmgAAAQQAAAHbAAAA7gAAAMAAAAC5AAABQgAAAYQAAAEUAAAAwAAA\n",
       "APIAAAECAAAA+AAAAX4AAADfAAAAngAAANIAAAFdAAAA3wAAAKgAAAC+AAABHwAAAN0AAACVAAAA\n",
       "FHN0Y28AAAAAAAAAAQAAACwAAABidWR0YQAAAFptZXRhAAAAAAAAACFoZGxyAAAAAAAAAABtZGly\n",
       "YXBwbAAAAAAAAAAAAAAAAC1pbHN0AAAAJal0b28AAAAdZGF0YQAAAAEAAAAATGF2ZjU2LjQwLjEw\n",
       "MQ==\n",
       "\">\n",
       "  Your browser does not support the video tag.\n",
       "</video>"
      ],
      "text/plain": [
       "<matplotlib.animation.FuncAnimation at 0x7fd942152dd0>"
      ]
     },
     "execution_count": 12,
     "metadata": {},
     "output_type": "execute_result"
    }
   ],
   "source": [
    "fig = plt.figure(dpi=100, figsize=(5,4))\n",
    "plt.scatter(x,y)\n",
    "line, = plt.plot(x, lin(a_guess, b_guess, x))\n",
    "plt.close()\n",
    "\n",
    "def animate(i):\n",
    "    line.set_ydata(lin(a_guess, b_guess, x))\n",
    "    for i in range(10):\n",
    "        upd()\n",
    "        return line,\n",
    "\n",
    "ani = animation.FuncAnimation(fig, animate, np.arange(0,40), interval=100)\n",
    "ani"
   ]
  },
  {
   "cell_type": "code",
   "execution_count": 15,
   "metadata": {
    "collapsed": false
   },
   "outputs": [
    {
     "data": {
      "text/plain": [
       "array([[ 0.5021,  0.3029],\n",
       "       [ 0.1263,  0.6864],\n",
       "       [ 0.6505,  0.176 ],\n",
       "       [ 0.5532,  0.5433],\n",
       "       [ 0.1804,  0.404 ]])"
      ]
     },
     "execution_count": 15,
     "metadata": {},
     "output_type": "execute_result"
    }
   ],
   "source": [
    "x = random((30,2))\n",
    "y = np.dot(x, [2., 3.]) + 1.\n",
    "x[:5]"
   ]
  },
  {
   "cell_type": "code",
   "execution_count": 16,
   "metadata": {
    "collapsed": false
   },
   "outputs": [
    {
     "data": {
      "text/plain": [
       "30"
      ]
     },
     "execution_count": 16,
     "metadata": {},
     "output_type": "execute_result"
    }
   ],
   "source": [
    "len(y)"
   ]
  },
  {
   "cell_type": "code",
   "execution_count": 21,
   "metadata": {
    "collapsed": false
   },
   "outputs": [],
   "source": [
    "import json\n",
    "from glob import glob\n",
    "import scipy\n",
    "from sklearn.preprocessing import OneHotEncoder\n",
    "from sklearn.metrics import confusion_matrix\n",
    "np.set_printoptions(precision=4, linewidth=100)\n",
    "from matplotlib import pyplot as plt\n",
    "import utils; reload(utils)\n",
    "from utils import plots, get_batches, plot_confusion_matrix, get_data\n",
    "\n",
    "from numpy.random import random, permutation\n",
    "from scipy import misc, ndimage\n",
    "from scipy.ndimage.interpolation import zoom\n",
    "\n",
    "import keras\n",
    "from keras import backend as K\n",
    "from keras.utils.data_utils import get_file\n",
    "from keras.models import Sequential\n",
    "from keras.layers import Input\n",
    "from keras.layers.core import Flatten, Dense, Dropout, Lambda\n",
    "from keras.layers.convolutional import Convolution2D, MaxPooling2D, ZeroPadding2D\n",
    "from keras.optimizers import SGD, RMSprop\n",
    "from keras.preprocessing import image\n",
    "\n",
    "# One output where the input contains 2 values at a time.\n",
    "lm = Sequential([ Dense(1, input_shape=(2,))])\n",
    "\n",
    "# Before the model is trained, the learning process needs to be configured. That is done via the compile method.\n",
    "\n",
    "# Arguments it takes are\n",
    "# optimizer : Standard Gradient Descent\n",
    "# Loss Function To Minimize : Mean Squared Error. \n",
    "lm.compile(optimizer=SGD(lr=0.1), loss='mse')"
   ]
  },
  {
   "cell_type": "code",
   "execution_count": 22,
   "metadata": {
    "collapsed": false
   },
   "outputs": [
    {
     "name": "stdout",
     "output_type": "stream",
     "text": [
      "30/30 [==============================] - 0s\n"
     ]
    },
    {
     "data": {
      "text/plain": [
       "6.4060"
      ]
     },
     "execution_count": 22,
     "metadata": {},
     "output_type": "execute_result"
    }
   ],
   "source": [
    "# This evaluation occurs to determine how big the loss is in the newly initialized weights.\n",
    "lm.evaluate(x,y, verbose=1)"
   ]
  },
  {
   "cell_type": "code",
   "execution_count": 23,
   "metadata": {
    "collapsed": false
   },
   "outputs": [
    {
     "name": "stdout",
     "output_type": "stream",
     "text": [
      "Epoch 1/5\n",
      "30/30 [==============================] - 0s - loss: 0.0225     \n",
      "Epoch 2/5\n",
      "30/30 [==============================] - 0s - loss: 0.0121     \n",
      "Epoch 3/5\n",
      "30/30 [==============================] - 0s - loss: 0.0064     \n",
      "Epoch 4/5\n",
      "30/30 [==============================] - 0s - loss: 0.0035     \n",
      "Epoch 5/5\n",
      "30/30 [==============================] - 0s - loss: 0.0020     \n"
     ]
    },
    {
     "data": {
      "text/plain": [
       "<keras.callbacks.History at 0x7f99d457da10>"
      ]
     },
     "execution_count": 23,
     "metadata": {},
     "output_type": "execute_result"
    }
   ],
   "source": [
    "# The fit function takes in an input and output at a time and \n",
    "# Trains the model on the numbe\n",
    "lm.fit(x, y, nb_epoch=5, batch_size=1)"
   ]
  },
  {
   "cell_type": "code",
   "execution_count": 24,
   "metadata": {
    "collapsed": false
   },
   "outputs": [
    {
     "data": {
      "text/plain": [
       "0.0010"
      ]
     },
     "execution_count": 24,
     "metadata": {},
     "output_type": "execute_result"
    }
   ],
   "source": [
    "lm.evaluate(x, y, verbose=0)"
   ]
  },
  {
   "cell_type": "code",
   "execution_count": 25,
   "metadata": {
    "collapsed": false
   },
   "outputs": [
    {
     "data": {
      "text/plain": [
       "[array([[ 1.8921],\n",
       "        [ 2.9459]], dtype=float32), array([ 1.0989], dtype=float32)]"
      ]
     },
     "execution_count": 25,
     "metadata": {},
     "output_type": "execute_result"
    }
   ],
   "source": [
    "lm.get_weights()"
   ]
  },
  {
   "cell_type": "code",
   "execution_count": null,
   "metadata": {
    "collapsed": true
   },
   "outputs": [],
   "source": []
  }
 ],
 "metadata": {
  "anaconda-cloud": {},
  "kernelspec": {
   "display_name": "Python [conda root]",
   "language": "python",
   "name": "conda-root-py"
  },
  "language_info": {
   "codemirror_mode": {
    "name": "ipython",
    "version": 2
   },
   "file_extension": ".py",
   "mimetype": "text/x-python",
   "name": "python",
   "nbconvert_exporter": "python",
   "pygments_lexer": "ipython2",
   "version": "2.7.12"
  }
 },
 "nbformat": 4,
 "nbformat_minor": 1
}
