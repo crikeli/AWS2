{
 "cells": [
  {
   "cell_type": "code",
   "execution_count": 1,
   "metadata": {
    "collapsed": true
   },
   "outputs": [],
   "source": [
    "%matplotlib inline\n",
    "import math, sys, os, numpy as np\n",
    "from numpy.random import random\n",
    "from matplotlib import pyplot as plt, rcParams, animation, rc\n",
    "from __future__ import print_function, division\n",
    "from ipywidgets import interact, interactive, fixed\n",
    "from ipywidgets.widgets import *\n",
    "rc('animation', html='html5')\n",
    "rcParams['figure.figsize'] = 3,3\n",
    "%precision 4\n",
    "np.set_printoptions(precision=4, linewidth=100)"
   ]
  },
  {
   "cell_type": "code",
   "execution_count": 2,
   "metadata": {
    "collapsed": false
   },
   "outputs": [],
   "source": [
    "def lin(a,b,x):\n",
    "    return a*x+b\n",
    "\n",
    "a = 3\n",
    "b = 8\n",
    "\n",
    "n = 30\n",
    "x = random(n)\n",
    "y = lin(a,b,x)"
   ]
  },
  {
   "cell_type": "code",
   "execution_count": 3,
   "metadata": {
    "collapsed": false
   },
   "outputs": [
    {
     "name": "stdout",
     "output_type": "stream",
     "text": [
      "[ 0.0676  0.5521  0.4907  0.1179  0.0958  0.2261  0.0298  0.4497  0.5418  0.8474  0.2436  0.3222\n",
      "  0.4976  0.7129  0.9261  0.5667  0.4884  0.523   0.9624  0.6353  0.1493  0.9232  0.2989  0.4108\n",
      "  0.193   0.9638  0.1379  0.6562  0.471   0.3061]\n"
     ]
    }
   ],
   "source": [
    "print(x)"
   ]
  },
  {
   "cell_type": "code",
   "execution_count": 4,
   "metadata": {
    "collapsed": false
   },
   "outputs": [
    {
     "name": "stdout",
     "output_type": "stream",
     "text": [
      "[  8.2028   9.6564   9.472    8.3536   8.2875   8.6784   8.0894   9.349    9.6255  10.5423   8.7309\n",
      "   8.9667   9.4927  10.1386  10.7782   9.7002   9.4651   9.569   10.8872   9.906    8.4478  10.7697\n",
      "   8.8966   9.2324   8.5789  10.8915   8.4136   9.9686   9.4129   8.9184]\n"
     ]
    }
   ],
   "source": [
    "print(y)"
   ]
  },
  {
   "cell_type": "code",
   "execution_count": 5,
   "metadata": {
    "collapsed": false
   },
   "outputs": [
    {
     "data": {
      "text/plain": [
       "<matplotlib.collections.PathCollection at 0x7f9a20144f90>"
      ]
     },
     "execution_count": 5,
     "metadata": {},
     "output_type": "execute_result"
    },
    {
     "data": {
      "image/png": "[encoded data removed]",
      "text/plain": [
       "<matplotlib.figure.Figure at 0x7f9a20144b10>"
      ]
     },
     "metadata": {},
     "output_type": "display_data"
    }
   ],
   "source": [
    "plt.scatter(x,y)"
   ]
  },
  {
   "cell_type": "code",
   "execution_count": 6,
   "metadata": {
    "collapsed": true
   },
   "outputs": [],
   "source": [
    "def sse(y, y_pred):\n",
    "    return((y-y_pred)**2).sum()\n",
    "\n",
    "def loss(y,a,b,x):\n",
    "    return sse(y, lin(a,b,x))\n",
    "\n",
    "def avg_loss(y,a,b,x):\n",
    "    return np.sqrt(loss(y, a, b, x)/n)"
   ]
  },
  {
   "cell_type": "code",
   "execution_count": 7,
   "metadata": {
    "collapsed": false
   },
   "outputs": [
    {
     "data": {
      "text/plain": [
       "8.9097"
      ]
     },
     "execution_count": 7,
     "metadata": {},
     "output_type": "execute_result"
    }
   ],
   "source": [
    "a_guess = -1.\n",
    "b_guess = 1.\n",
    "avg_loss(y, a_guess, b_guess, x)"
   ]
  },
  {
   "cell_type": "code",
   "execution_count": 8,
   "metadata": {
    "collapsed": true
   },
   "outputs": [],
   "source": [
    "lr = 0.01\n",
    "\n",
    "# d[(y-(a*x+b))**2,b] = 2 (b + a x - y)      = 2 (y_pred - y)\n",
    "# d[(y-(a*x+b))**2,a] = 2 x (b + a x - y)    = x * dy/db"
   ]
  },
  {
   "cell_type": "code",
   "execution_count": 9,
   "metadata": {
    "collapsed": true
   },
   "outputs": [],
   "source": [
    "def upd():\n",
    "    global a_guess, b_guess\n",
    "    y_pred = lin(a_guess, b_guess, x)\n",
    "    dydb = 2 * (y_pred - y)\n",
    "    dyda = x * dydb\n",
    "    a_guess -= lr*dyda.mean()\n",
    "    b_guess -= lr*dydb.mean()"
   ]
  },
  {
   "cell_type": "code",
   "execution_count": 10,
   "metadata": {
    "collapsed": false
   },
   "outputs": [
    {
     "data": {
      "text/html": [
       "<video width=\"500.0\" height=\"400.0\" controls autoplay loop>\n",
       "  <source type=\"video/mp4\" src=\"data:video/mp4;base64,AAAAHGZ0eXBNNFYgAAACAGlzb21pc28yYXZjMQAAAAhmcmVlAAA9KW1kYXQAAAKuBgX//6rcRem9\n",
       "5tlIt5Ys2CDZI+7veDI2NCAtIGNvcmUgMTQ4IHIyNjQzIDVjNjU3MDQgLSBILjI2NC9NUEVHLTQg\n",
       "QVZDIGNvZGVjIC0gQ29weWxlZnQgMjAwMy0yMDE1IC0gaHR0cDovL3d3dy52aWRlb2xhbi5vcmcv\n",
       "eDI2NC5odG1sIC0gb3B0aW9uczogY2FiYWM9MSByZWY9MyBkZWJsb2NrPTE6MDowIGFuYWx5c2U9\n",
       "MHgzOjB4MTEzIG1lPWhleCBzdWJtZT03IHBzeT0xIHBzeV9yZD0xLjAwOjAuMDAgbWl4ZWRfcmVm\n",
       "PTEgbWVfcmFuZ2U9MTYgY2hyb21hX21lPTEgdHJlbGxpcz0xIDh4OGRjdD0xIGNxbT0wIGRlYWR6\n",
       "b25lPTIxLDExIGZhc3RfcHNraXA9MSBjaHJvbWFfcXBfb2Zmc2V0PS0yIHRocmVhZHM9NiBsb29r\n",
       "YWhlYWRfdGhyZWFkcz0xIHNsaWNlZF90aHJlYWRzPTAgbnI9MCBkZWNpbWF0ZT0xIGludGVybGFj\n",
       "ZWQ9MCBibHVyYXlfY29tcGF0PTAgY29uc3RyYWluZWRfaW50cmE9MCBiZnJhbWVzPTMgYl9weXJh\n",
       "bWlkPTIgYl9hZGFwdD0xIGJfYmlhcz0wIGRpcmVjdD0xIHdlaWdodGI9MSBvcGVuX2dvcD0wIHdl\n",
       "aWdodHA9MiBrZXlpbnQ9MjUwIGtleWludF9taW49MTAgc2NlbmVjdXQ9NDAgaW50cmFfcmVmcmVz\n",
       "aD0wIHJjX2xvb2thaGVhZD00MCByYz1jcmYgbWJ0cmVlPTEgY3JmPTIzLjAgcWNvbXA9MC42MCBx\n",
       "cG1pbj0wIHFwbWF4PTY5IHFwc3RlcD00IGlwX3JhdGlvPTEuNDAgYXE9MToxLjAwAIAAABaaZYiE\n",
       "AD///vdonwKbWkN6gOSVxSXbT4H/q2dwfI/pAwAAAwAAAwAkAvzHv6EHQzQgAABRkkpUkmIiRmAh\n",
       "sP+ebxUt65SzxgV5BtAtfEw+/RTgAd48X43c8vDOKyJ16Rb4I57ikspKAdLwEk640y9hTBSnOt2G\n",
       "9BfCLxxHiE8R2vxbFfhlHsSYn/lgrj+csSHqPXWFIiuVSUakG23Sd4x/QuzaiGTNOsTcfHtp1c0F\n",
       "8d5p56QHO2NCvcPN3PdVxHR9zDztCTRMa1cvsz0Wia9wbxWyPEkl1uYb9aBB4/tU5poFCuvHShco\n",
       "3a7c7om17M/ZBYmhyGs/8BlPYlj+qRFYdaSTehJPmDjiNfYwYYgZ0OgKg0IAb4umbOLxknLQxTYF\n",
       "sSqVunUY+4X0GOrZsIi4nhgefZFUZzuxtJYaqN+zLpU7mwtjyb6nqWJAiTgPxV1llZ0kBl6id5mo\n",
       "A9/8l5+5eBgRhPqanzIWhiXlS4fjCKvL64NEn9DfqXGhLX6P/joX9XVqsAaRSecfWtb4QNGayaMw\n",
       "eHbpNVCE8fWdeD2JhNhKfx9ynuuvSBlvyz95nVr21+w22NEXoUpgf6ZaT+sHMAAac9Xnpwt0UzKG\n",
       "FEpvO6fEJWrKyAHXvAOWjERxOC1qrYiklbP4ifJ59jBFZrANwZp3jJRPFeuzgYkWt9XKfpmenqdY\n",
       "TJTc7RN2kVZhJUiiySa/JExkHsDitjgslZLsNIDO47GBXTXNLX+H2PeOREIPiaiQRZvfHj+3yO/7\n",
       "4OzDA7TEUAZpQrECG7h+zyE8/7HCcPNlSxquY+rrZr86i3iJsD0RQInER7rnWc3MacFaAsKhhy0f\n",
       "U/SwIAk+v1VrjPj129B+VdYXJsxwm5faAmkV144/WX4YOGPlYznaST3eNFcbzd29kdUgVy172aEf\n",
       "ewwWVIxyNjlJf0zYhoMMih/mrg8V/JXjh3D/JH+3/arfa0hhfPUSdEgfUZljEBUPNFuU8X/i+ktV\n",
       "cXuIXOIVvB0DWhD9JcpRtn5w3V2+Qy+i+L8uY5iPoZ/+ir+4Bx9ha99KNJrF8CchPSdbvTp152u2\n",
       "B0wxDuhdAwfbiMGSlr4ebOYiqG6piCFEg91bP2lNps9ZkdK/JfJKs797mSIZNcf4fLww16iMVUK/\n",
       "nHKEZNJmLb+bt3673Tc27p4hflhpiOaYSAAdWrBPTCc0GXqvWfAaJj2JdMd45OOzf7epdeGc+VoK\n",
       "WNeuYwZZSmfZbowhOycA0Qi0rb2HBFNt1M6sEyYhLp8v0k3JDCp1lr+q2EkGvwE1u7XUMrQKSnqA\n",
       "SxPLDYRl+Z+tOs4OpS8AKly9d3KnVrFB80tNq+8SdzcCkvgcqdTReBsfWBRdLBP7ajt22w8lf6ti\n",
       "GhH6t8gpkCA8McLsIg3s8FG8Vzm4F0KbC0kfPSkFV6mnXNXj1UekRD8xVxfCeN2ThEQkTl/jPkaI\n",
       "aGdyWCRTO0r3f+HbPZz43FlokjqJkaVsaFF+qRnpkoJ8G5iSGASAdXc4aS+y0JfG2YdG6I6RILsb\n",
       "LfIEHA2Y+3QxA+KV7GgkUrEhyV0p6YFRfUPTs/8lIEgKTVItcJwQsS8IbcgXM/LKt5/lh0HZvNgA\n",
       "/B18vqVk2QB5NuGPiLRkPRFI2AKSpMOR5eFBglc0DBrdxYfn9trXzHLfCH0uHxMiIErGz7M/XAJu\n",
       "P1tr/W+wWXDT/nUnOOFE7NIAFtq15nBHuQUNHor2iivrwpkvziMrzSzuAuKoMzPi9n8uNhkDsNrt\n",
       "Dvxc2TXfveOmUvKbTcHwxLbVsQ+yfrqrIC3kEURPsTGdP+BiZMXVaviy+kJ9v+8iyoEaa4jndtRe\n",
       "qFgliArNT6OBkkXmAXxMC6ldyU2XmDXsuOF/Gh4IzrTLgOnIN72myuW5tHls/6nA+Xsa6V7eBC2N\n",
       "ylTizmlj6hOjpC1O4kkHrTymglX/7mcqI0Vi+PvvR++7sf0ErFOndHLP04wbyRlpQzxwtjLkIfE9\n",
       "FZqrQevyvye7e1Vd0zitjADU17Q2/9bwWKC4n7l+kJ/uQiK1NqZHJgVoflMsdy6oImBpqnKoLs9h\n",
       "Q+dCqz+rNM68gZ62bgx2Evc7HLy/RU7RhlvEysuHD/skBf9k9gPrUQo7hpUOh/VFa+BlpLBkuVVn\n",
       "LeGjYpPBCgw1lyvm82b225sQYAit7nKPcVH0jIoXt8wcu1j33Tp1LKz6XeaEToYiTL9n4Co6TWwB\n",
       "LBwNZGsAtJFQwkEeimvYsSqPQcFT/4BYBdf2duCqCTGkWacPD9KKYqHV+j8iIEqsb3V+6CpPKfFW\n",
       "6mBXgrMGh+BULSWBZ/d6HkgVC1S//pBKuF9gZnCiVZ0lnqRglH+EhVghFSd8rEZeeZJWssjefmee\n",
       "wreChM8CeW7zvp5iar8PuU/kQSNs5kSa51PC1QmnVdThSrofiJWFto2gX68MuD9dxxG/WyinJZCP\n",
       "Mgd30ZurNhPePVLN/pElKmG8nLihPFl8ZJR2mT9dzqa/h5SOvomSMFZDNUwBAPIHKqAyE6k/POq3\n",
       "UsVUoTT5jrRFrNhFiB/mgp3woZGquLW/S4zp4nr+Lx5/oRptyxe/+xX0QeyIugcIYjJUgAiYqEv8\n",
       "VG3P/QQU/RKL0YTCxs3U6aTB1Or+pg/dQA+ipxBMgTY3HGDQvtisrjWpfebM4Amd0nBp+86Ke3hO\n",
       "OtjwO16vOlS7DYO0GKs8pxBriUWN3v+cgVC6bYcP5t3gnZ3xTp9btBjJh8a2LeJvQ63pzvKZZmpZ\n",
       "UikvvPXXjr9q+0lhyIl2znYvZJKtoPu7nDtbzAwoClig3tS/YE38p4ODi6uOcptpQZWMTs+SOIr+\n",
       "RQ+Iso4m/EQ1H2Rty5nd6h+En9/nCQymc389xiPJ/Mj5zDkGKg5HgPtMVCqA4qPmY2nMi5fk/JyE\n",
       "DJYJudyeDVUSZSAvDF9eau7XPyqQaTFXz4t+Be9w5hM2Gk4KJVX1z9d2y8ZrFf5jkPO5qghGdPUm\n",
       "jGbAYmrg10OZt9dH6n1OklLZTewr+Tcv75TK5uf9iYZsHXaJQ8UHm5TqY7+5XuuUrFMlvGUgYcw9\n",
       "nTKeetHHlqgedHpwRd7eB1qWtF+4wECLGswutc3iuWY4t6o1EXFEuXat0kUiwG8lUDsLscS7tgdf\n",
       "L52rDDclcZbt8fLeJXzw0mUON9zu8PIIOBYv9Qi7CQsvYFqh1CKyyzPpYv55tnnSvcvKO6I3zvib\n",
       "UCuTIA1QWNoiB/sNKKLr+DNktO+sII8i6JMu/3LQFYtE6CvSlpLZRon/8jR9likr/6oZvuSsVTv/\n",
       "W7q9AO5DizskhceryH+5UIZnm85CtJZ5yOUGRfJZ6TjBUXXn24T+9YsZN6q6dde2h+yJQlN5it94\n",
       "sGPrW+N2m+ERPY0wIQ6yWSXZvMKdOF+GwuLJv3yyHHbrJkFMGAV+u4YwtbWssRHLB9jW+TamIauq\n",
       "WAHKehB/4q2JrIe0ZtxQJeitA0m08uM9xygI1UCA+PXV/ijkpJL08i4okh63Kt6UgcXfKlCSScIg\n",
       "GLFGR8k/8SWGU8ajnF9as0bipaYy/x80he7G4GBeRrU+5UJPRCM4dtfwW2SoqXtUNHrLY56rlPoh\n",
       "DXInzYkghkLMx5UBL3JL6HOoD63jknDahku4yay1iGGF68yStxB5HUHXKo9kJgQODgH+PbN/jsZA\n",
       "ABdwy3ZVTKGZn4aI7VqptmD60P5h5CQQCr8mctZRnun+tOPMm70OUv1AAXa7mH29jOonnLq3k30Z\n",
       "ELiC2Cil++a8Rt2thTPEpCprUrwy+SzworYdjPk9jb+qOPmUneTEKhrKxkzy/uXGOTN6sU6gLehm\n",
       "E0JYZvsYh1eZycZ1y602T3VotmD8qMEQtsHwANtUmk7NHtpxP31o0Mm3PXB8SLobZe6BsO7EXiW+\n",
       "xjBNKBQ2wmJz7Vx+Knb61WWnEiljn80sP5BSNgGNoZsAeCumh5vtU08z+nzIcF8ATOF0w/O5jkGD\n",
       "YFh3lKReKTb/Bh4VPeVnAKOz+e346JIt5GL9XlufxrAMmrx/7W/OxjJ4FEXUsvuOyyABKMt1Jvly\n",
       "Sx1IFWwfCkgP+Ko3sTi4lVs0yFj4wXu9fmkihGVhDU6CObyUWZS0usQp9ozO5puIPY+47fTFTvT0\n",
       "gNoJkEYmj/hUarOV9nqXUTknNdlvIYmLwZxhjBQ1LPqWE7geptgnAWU2eBJV/vZEc1cFy8ixkg5x\n",
       "xWdH8YpuUg90FbU6qpw4j+k+CgguufFOELNYY24vHqgSM5veda0zE5gvnjcnXtpJeFKAJrXVYolv\n",
       "AtKDUAmq0L2JQQ8BB4lufpeAC25zYbcfyFQ0j2lrqKEkQ7gEfZ+FNO7uN8vbd+rXifrb63H1qj3S\n",
       "mtEFX3owSMx0bk88xLXDAdXnuvOVhSRf+gJ0AwP+fEx8PFUf/5/9HAX1YE5vxQL1nGQo7M3j2Gax\n",
       "/j8VmZjLXfrCYkKxgSYXqZ975fMEaQMxQhKKgEqi8lV/0rDNNtTq1qAS4k6uvL3YSAXJRTmphj87\n",
       "lFUL14d2cEe/xKHhw3Y3PYuxEa7R9Xx6JUP6h7UZ6h3z9PJUO4M06XDNV5/a/kTDXX7i3GB93RcQ\n",
       "ggIXw27lcRPZ3HOXwXj+3x+MLPiO9zwQf43VdwMZe9Xxo4Nhqz9SQeEk0BxS1c/a2SXU0dvb0g4Z\n",
       "8Su/+ojAExwxESmKrisdapG+B2sDeA3olVWfz/4/2yktYFhS8gxZLQ+AO7gM/tm3OgzYyWdCZ1oF\n",
       "yGvv67US+vXV3oKS8lvneLtk0UsLKzfXGi8vjy3wNwdFnDYr/q+BpTLdNr1Q3JkrnJes/4ts49q0\n",
       "PX9wAdGXPt7wU+VAwEeCRrLu06U1Rp/J3btkvj/1rjIO1ay7OEdCOCnxtVCZh2DW26h2RPuTY7QB\n",
       "+5MF9vVdS5djkhGOzDVus2ohTXA1zIDHMd9b1nIhL87lQuShVHwHvjmMMYH8C5e7UXFFbiPtb2oV\n",
       "dCUBAygdH33ZVqHXodKM7FtwbBvX+WFCSmwK8Sqp2CQVrofxbljyT9fMlrZmuPaE3RINgYuLDlP0\n",
       "6pHKX0gUDAM/Ei245ac5wr/9N9D95W/FtMshySqfoKX1n3ObPH0TG/mH2xr0RtOFW3P653RB2h5a\n",
       "M+IEwrVjaZmm+p2lWsDXPdCywDsp6yVcDiQf89tjo4mPeHfQh09fi0Fsp6/AUHTINhaKtF2xlOzS\n",
       "bQQj6U2Zr4NmDUX7c1a2ufQw6JZAcuaDi5FxLrhGJMCkYKneS6dOhBwlg0N2vu/kf3xjC1OvtPBa\n",
       "C94TRzfOsyLcaR7EPkiZcpOONj47yaQkCgCiUDMHX1/K9XKfu42gwtrodH9egdBX1yT49vFAqNGn\n",
       "LbXGZ2MBabyyKZxdi9PnDlNu2AN1eteiJ9N0NcbvYnnKq6T4X0w68YErYOARI4QNEaisSwv4QZeZ\n",
       "59a2Lrm6VIotei8QqxCgbiwyoXhAzXtIQhaziqaYutyBTAanIwSPPh2he766NTL1USSBuRa7GaWU\n",
       "5TOHRnOuu6QpjAJiO7fzaAu/FtpEreUxuwCqDnq0Kr6LWFo4AdYMsiAtw17gSkk365fEkRxCm7EN\n",
       "/m9EMBTA8vd3+qvd0MtFgY0MHjxCdTZ9nVg6Kt9U9CoJWSvlirmRptxmNnAG4oHQHKlPXoEGaXK3\n",
       "Xbnkcxa+3QPXhun2WPkuYflargMAgJgXhhDckwA5mlfw0UcuNndfx4hWDJ57YYkK2moqlfHptgSO\n",
       "8vJR+qB+FP/OC8/TeP3usQ+7652h7yZ6MjROO5geVF3K3LFy++xu79sRZCcSr+UaXr76hzsWcHpb\n",
       "AxEjqwboBEvWeeUzEXxdMhdGXiIfFJP63bbwZaGCheP6FM4HfwBYoYBw4ZHgKCBoeQqsXQpnY2ag\n",
       "9gznB+lh//pAn9/GbaM+I8XvXkXnHiAZRCJ5cINdUC5zJHmRBjWcNh/zbcFBbuF7s3g3nbU0iYLx\n",
       "O71Mgwi1bEzeA8/C9K6GAbCysfgbByy3qljqd7Ll+nobGZmPY+i2DkQQI//GTSaAFtF0dGaYp0xS\n",
       "wAAJbljEKmEv+u0qjuTj6oLqd1AIAInPB4SIjvPlS83N66kq+1ov2qD8A/Car0ijQXc0zWTgFMJ5\n",
       "cn+4dxbLFIgJ9wEgyOZMEWYePAPjliBrwo6UJdk7VdegLUsOiLqjoZmxQedXCOdrm0EKPyak2cuK\n",
       "Yg0mUeWeanBDzni55Fo/X5fXBGL09oY3JTBVVqiUJCELBdnao/9bs9GtbigceO/45i6elamKMhUc\n",
       "S1LbZ7M+DpKM8GeDeIXBwb979E7yRN+rrMsWMkCjNO2wq5QHhfvl7gH3nlkzQ/5/AO0CLPufqEbI\n",
       "6UJ+uhY/spECeQ/aH7/GJ7QmkfdAA5TwLS9bJuy7M7m2wtUy0Q2YhVWl5nu13CF20dSd5HmHRniW\n",
       "DYsEfHUNJHq/7PqKuiP/h7V2ChOtl0RNvfk0eWud2S0epEaSCAUgifrqP4e5clxmvhlvlP/Y5auF\n",
       "uvAbTAuY1XBbTnLfZC2jYgsH6K3ANmvoTDbw3xyuENKhDO8jeoIlmrPJs2Db6YFTmRDRwwCAivlL\n",
       "2XE/peL1mVPm0yaLahXZDpWTlTocsM3bKE4qr0yZYeyJeTHX+6WnqczV2nCOyR9KGYaY4agtFnPW\n",
       "NAJ5R2H2hpbsZYyqpgWmwIlo9wOQfjtlkhAc5Ej/xAljTaRVBnk9jHtXnsupFFYU370tLPXRkTeS\n",
       "g/53EmaUAKgiosS0kKGoLvj3BpHRctWGkKSM52eSxYfQntNPvqTBz/h1zQLqg2hRy4k88S0fqD1S\n",
       "NmdbT2KihGMr9UK9/bbGGmAoWHFMjc6v8tQiEtrCPtTVG5guODNIZaER2YifvZm2deMgLHUMXdXC\n",
       "Ndtq45+huIB/5ec3DiCRlHkdNaFG1M4CO/unx59FmkzI9Hay4+kCfntM8jieeL1H1J/L0e6EBkP9\n",
       "doz6v2FsRr3wx8Naj/mxJFZFbbQ5DlI0enge1mP7Xwfly8LA3dWJKAiTJwtHCXGpNE9zDshwXemQ\n",
       "IEkx3tt/S5OkNeN5xRlk+r5XizJTcwYCimsOzdcgtq11y04PrWX1NIjWfN4y8Ghnz8LgpqGFtaXD\n",
       "oP30KeEcDuwO+YoaAscnnbyRgl4QUD5346o8vBxhHshbUH2rF5Kp9ZuQG73rfFLfWMash5pcmY8U\n",
       "l0+R3Phycpok5c6i0rfYbb8s1vlM1Vt0SdyfcsnhUvkUMjLaMgPHuPVQRZZ8IXK5bAFV/KhLJkLp\n",
       "F2mMWqInIUBpFxf5pmkLZyhbL/g+ZAHO+K302Ooq3paLKgOFIABSgUvr7ZM1giPU2KLGcAX+d6sy\n",
       "Y+SHuAla3DAqxBFS5WjBIaip2PUxnxEbVIaaasD+v1nO1ezdr41zu9hWe+MeDK8zoKdrXQm2HBnk\n",
       "Q+HdlyKNQZwHnbdL5eGOh0Ekih9mCt3YrqVKJ5InxMOFX1nas/J3x+b30CPITqdZl7vf/WJvbVq0\n",
       "XwhYX+0dv4GJRZGmdkXBMejQzx3tivbV/30BA8SrM73kteb9ChOz5s0g2/c9NC4fADQFl2CXiSOr\n",
       "wPvqq5B1oughVuyVTUd196UC3s9NoK2bq3BV0XaWvjd7jdE2v6mMMEHsG+ol2fxSxpWOPeVGz6G9\n",
       "Dux1hQUbOkZ+fIsMRTVirWhmHZ8P+DB2DyTCnTso9FMv5nNhaXQVhRH2MJU73u6czORkuPJkmTQq\n",
       "Usx0btfoAAAcn2YQscwOX9PSzxTLFKwAMCEAAAFwQZohbEP//qmWAHdXy8BBKpO2ChXvfsp9kOtX\n",
       "11l/b/VK/UUYtxk06AA04KX4w29MGIUS3cDdcLatulXXxLZdDRu2AtompcDR+bJ3kXhw6oDvJp3n\n",
       "vb8TLJq1JGYO2XdwIfU46sbS8yEk8+4bBbjDneUh+bo7boE8Glc3Y7JNmQIxKR/JsSwDp8C4NnsM\n",
       "H8pN2Q3joYOHaiUs5UdstDDhYYJDhABQcBubCk3Qmw/JyzpA1W0cEAEYBCjZ1AnMeDITih3anx8K\n",
       "uR9NFRkZ3D27Fy+1W0mtAtnTGeaasLsaIbz3n22ZgCWU2S2P8QAp9xT5LZteuYbvwRkll59P3Jb8\n",
       "JOB1VWeX9D3po58DxqP0aYWfu0kqb6FDAsmMDrQWnaVI/fqAQmn3hh7YaraQg1b49Uw6emxHtQhi\n",
       "qDn9MbLXEYJitrbQQNBazoz8/dfOCjJ5/ocp6fUlKe3SBGS74Cfe+Jh3IQS5h/f725GrVqPm6mAA\n",
       "AAFCQZpCPCGTKYQ///6plgAAAwBoNn/wTt8u0Qld2uvNb/KXPOMw5Idb1fvMauZWk4JlW/3yI6oS\n",
       "dqHTBDurMsGdGnKc+T2OpaKwbgDh4CgLKergr7bHaZYIB4ZqredAlNFqNr0W1acF16LAk/Uc9fcR\n",
       "eWqPToWzAFserQw9O2cTGtLen5g/Agg5MbKOyLrOIe1ob8W5XwCYnOMx87Ish22CHGF94FEF0BpL\n",
       "ByZW/8ZevuxMZIxRPHtqaODAaowgTrclvNejOqDO+NQDPVxvBWwrHDjrU+w6zvBl2vBR70VLE24n\n",
       "qdlyKyecZJ4O4otaT363B0jvNjCUAmK9qOwP0O7Xc3wxNcTDzXQf+V8AIiXWb1JJA6NwFBEDxbJd\n",
       "BPLWz7+PuUDVjpLhz1sGbdu+f449IkW8OvIoYnpVex8xH7q1Xh4RUQAAAPNBmmNJ4Q8mUwIf//6p\n",
       "lgAAAwBnqkpbCAHG+JLjZJ59L7oFjO4IbxnONTHfe86U6x8lWPFtV6CZisAXgx6QZ6HGIF/6MKeU\n",
       "aWn8Arr7e6QEAhcenb2e+GAKkEtNSsOAmjvts6WvQqmaGAkVMrZSNG/PRJGBRyZ1kQA+0cTAHw2M\n",
       "TmWrORFFCouhFCjGaRtll53kSJW1B2jDerD7qiFEWJ5kIea/RjQVO8WWk+aBRA6uNBiaWg4Kn0FA\n",
       "oQRahwdPWWsPixEJWg9bFkKAcVBE/Udj9wZahN9CmxROm/w0w2perqbLwP02Sci3NUNReVJfPI5z\n",
       "imwAAADtQZqESeEPJlMCH//+qZYAAAMAaAdGm1wAbfMp9ApIsXKt7eonMMoAeduNTOGEC+08F4D3\n",
       "5UF6BKh+0XaF34zh1qe5pIfUHpnidwivfdwhlLRs2yIw1EeZ9+aoTx65F3sLJs/kFJl5Qmgm+p8q\n",
       "Q9oXXf2Pt3KLq4MCzTvAz0tXw3tqvCDEWCLUaPueEZYS6b/5jpGOiSk3tY0qlQ8hjNOPo6ZeYGz+\n",
       "q5PBFCuCw5mXVZXtNYdeoBatfioxpp66gOcxpkQVvPhUReC+/a9G3UxslcCxNTuAYkvBLz4B7ibz\n",
       "Td4MipxS1BKv1cp7P445AAAAtkGapUnhDyZTAh///qmWAAADAGgdilVm9sADVX+1FSDj2IJil2Tr\n",
       "nVPxVaWLG3A2W0vr8B+aDjAIP0RZw6wK65okewajiSIA2spIW6L709xWdr7Y30jPUbE5/6miuyss\n",
       "rkIPc0OR351pKOJp1p1EHgCQlRvO2uJwML6JaLYGQ9zRDxBXAA3nwOUE89zyeesCuJvNiK6hEzHa\n",
       "Hjy4kguODnFpJPfkYxBWwvTl9tuddsTUV2hCYAFtAAAAq0GaxknhDyZTAh///qmWAAADAOkZvB0t\n",
       "fRWN5HgMqBcAIqyce3kRnvhXQYT/EZrV7Ek7wUAnIRuySKwslFhciDzTggVZ3Zf7Pwcysfb4/ImI\n",
       "nUQP1ycREoxBDnICIT0lnEEh3F9GNinEW5eFKpuM12gSzTZtpCpkGfA0inbeSvOMrC4l2Q37IqIo\n",
       "uH1P2QUpBSNtoIRh2L45Sg469+hgGP6aAJg3iAXKSkKXrQAAAPRBmudJ4Q8mUwIIf/6qVQAAAwA7\n",
       "rRoISAAgFtX5kur7ovYZri+eVLRExaDjXwxOqVim1qRZUdPPfpv5cV4SQrIdSIK1527yxe+nw9U7\n",
       "iFBUds0qdMfrae0h2SctDv9bcqbwjS6FM4mdLNEwSGrOOFPWHSjRCvGnMINnI7oE1xRI3ktiaKgg\n",
       "yEfXxADfxrEBCMKk8sh1E8BYcXedeI9769ETcc72IejVUm+2iHTgmmMgTchpgtTshh0b4Oy38fbS\n",
       "pjSf44mVelZyp/idr2OnBy9aPziR2NMKr7VM17acOzi5Nyc9528zwbktV9iKbLeKL8UaxjuhAAAB\n",
       "AUGbCEnhDyZTAgh//qpVAAEoQkfUCbcfrgtjr9vl/3yctMP9Y5RR201d5BN51XpWVrasi9Zse7yo\n",
       "xa5fOnPF0MnWhIuyf1HZjyocOqZRU0UuBvSdz5yvDvFZfHH8HN6vhyAqHgqvYE5lLb4dMdgbfsWM\n",
       "v91Gc+uT1JPMKyDx/y7axZ9hwFc8DDvDaLQrvz1jJRLBL+9yFCIeLNEzUoiXppsh1dVIdUfCe2Yl\n",
       "pSucyD3G+4Ive9zSXbRMB5hRxmj10dtspa4RkWUweiNv01HOtPZDiUoqjkw+2XQak9xND/oKoSxR\n",
       "/mnUTVpLhWZdSXpEKQhn5D9pbGHPb2q8kUQVUjrgAAAAoUGbKUnhDyZTAgh//qpVAAADADutGaTK\n",
       "ABbJI9q7vrEp20mha3aTAOsVDdVcezkMdYIC2rxwGIaBGaFp7VNzmqs+XWQOdcOmVlMNVzJKmmi5\n",
       "1fiiABtcbDh2PV4Rld9FspMa7q2BaVXp3wmNyxVBBwu7AAJKmdWRetL7rn/53hHgFyjnmxe/4ymK\n",
       "H8l7YA6vt0usdR2sTXR1uYYFfjs0kDugAAAAn0GbSknhDyZTAgj//rUqgAAAHdjTwzoAEs/YaKLN\n",
       "sJAN154iE+kBml5HN0U54CsM2b1DJSXDChlP364TYd8S0w3nWK2bofTgSIxXH3BsVHJATMlA3T4N\n",
       "aATyRfnd3BusloXISHrDk1XDR8ko/KlJ7aqnqSZgf220dBg3RUzV/5SKeUWgc72tSyZxZ8/7WgtN\n",
       "uPgz5X//kjoMaqpM30EybwAAAL9Bm25J4Q8mUwII//61KoAAAEQR1JKqgz8RZ+0CdGABEfRainvB\n",
       "mKZ6g1ThwiYoM95FykXGMYp78zQMocYOhTmX8/VJlDoKmkf72KH1gJ6DWxmtataaBEi99QOQnwkF\n",
       "FyG44yjCHutdAJ2jD2AIIZh38z6twtvQ4+PoHywX2O/EFNwCB5CfwsiUd4rlkyMLaZYNDozZb4xS\n",
       "4F0b+ZiCIQwC+KwUlCMYHue7bUkLKlzh4ZQYMDhsVD3vJS/MEf6MqAAAAKhBn4xFETw7/wAFlF12\n",
       "785sazPTGUaaeAEP6/0R+vS3JHrLerOZ33cPvvm9ah2c3ZaePCq19wM61BLtzzhxCTuaW8Zzonpr\n",
       "Pjvg1PK+0BaPIHzjbFUPnikWVdy/wqzF7lKOKZX4k4xHNbCYJmPpJCpfmw/blNhvF+pBNd0++fj+\n",
       "j1+/zfdNwe3ZStSmj8yiEK4v/bDc1yf14XVLJvsAUaZgo26GYXX4Q6QAAABxAZ+rdEN/AAPLp3zO\n",
       "geh+sR7BcHQjc3Tea8BUAABkmYfejGXHrRYApNlUCKPFe+5mNTBFBLuzFxrCB2r8CdpgXlfxRkSP\n",
       "XGhwTPapOfXBTTSrQuku2aZTwjVB6ntT2H1yn9A9JUqjcXn6aaaLy0xrK2EAAACjAZ+takN/AAPM\n",
       "UPzObg4JIt7gBnDQB1pWjswDogNS97ERTEFn7y2dldiiuZELIuw/uSdz1OsAfF8o08yfzrsDC9M0\n",
       "h+xIezedcIbOu9+a9h+Kq7H4Lb3dYOJlhRDQe/K4Fj38OvsvGwtcOVVJ1UpK7tojMS+kLkSOpreX\n",
       "mkF/0NT+YebVwF8xAGeEyNNCYiFA2jptMD/eN0wRGhRhsmS2m2D5EQAAAddBm7JJqEFomUwIIf/+\n",
       "qlUAASg+uUIklS0rjo7f/god9q7zkqTE3h4LXmm36MDIf6NLL2sSHt0c6mWuRlIqk2iX6b3z/56H\n",
       "dTLD4kJAMR5MsOdMz6SkVqO1dV58vfyClZu1QbbadszJbBDV5tCzokqqnlepArtaMbY3RbKl28wk\n",
       "okyOq7kcHd1X9Btzrkd1Ug+j7KlG/TAes2TtGzsTy28n6QXQLBYalVxvwFAPVAbU3u8DCzp4Zw7r\n",
       "Aa+AUzpyUsn/gCvn49dR33v4MFrV/yhJasbhHgZaS4QS4/6cl4WadGj7oU4WlNrJgagYyoFBK4YG\n",
       "2NTmBI1zjLJ1NFOV9doKpsEivw4ADAx2U0u9D1YT22jGg3+QnumPgj8XpLOERKmGGfxh5Vo+BelM\n",
       "hSXY2il9+vZ9YBLZlXMMe0KViOwvFkGN+44OquBcKn/Vd5nRYA/T7dcDAyP0qKqRLvE95q2xrSbn\n",
       "wpIQKnNteefPWK6cInLt9DF8eN5powgHAh6u6aFxuXkgvu0Gmcig5GbywxKUn4jC7yIc6hN94UFW\n",
       "Z5sQUEAVs3M6BdTgUwameMmiHRjcagUS/dYOUD/ugsyvIJ/rQ/7ZJF1X5Y9vSyjZv6RNILf2KW3x\n",
       "UOEAAADtQZ/QRREsO/8ABZRdd1b7wn4n1ZaVFvyUMUlqHGoTllvn7/le6kbQlUQBuOcdIOIfwF25\n",
       "20+4PTQjUpEMFJIv/trwgcaYkkOEC68HfxsStW12MLm7Za7fscce3NUX/jooV+nJ/ZFQxtpyv1WG\n",
       "SjsNpvECP8zscA3IvynyWwgWOZqnzMKoiQsvwAPpquOOAxxRviGPTXIj2PS7gCG+yMSUy69fnSfb\n",
       "FlrYTRl/Lih6HkrCvvRjXxxKJpLO/o06AjVYkW+8SjM4qheZoz+rdtVTxzGZk7r0rbgIrRq4u5dg\n",
       "EJ1GWSUs/l5KU/BZVFS4AAAAlQGf73RDfwADy6d838PxIHUbH0kUcc+tW5ichKhtbVd20ybxhwqj\n",
       "r5Gdk39wkr8cfrhjokkygS3RdU4nsANOh69QCKL8qAKCUTQT2G5HPwjfqinEdeKW+NjnyRAQ9Pm6\n",
       "jC1sytjlr7m51isKrKSfgGS8JhWFrqZ8fuvhpBudynEYDFTkZDdSozLaVQV3P/MTG7slog37AAAA\n",
       "rwGf8WpDfwADzFD84LWlb6wlqcgTT4MIaeD/rxFiCTCvOx0/yUV5DOjYXMOxp7LKm1Ned5+HEjxN\n",
       "+XAue5/fwQNbRHpjdWphFYHhC/Mts5RLegLweZZdzhrNqWMQIVbpAQHGSZSrEDg2Sa0ID5S5gt9Y\n",
       "w0rVusbz9+CfQZHkLSiqRKoqmlu1idrUX9sIHeC91ge46kK/pOBNzbFXVg98ukGZUWv3nzzsGv1v\n",
       "Ve1FMsEAAAJoQZv2SahBbJlMCCH//qpVAAADAoHednJGixkoMim2hDGR9baB84XJXNWZ6puQwZh4\n",
       "FP1eGunpe8Wc/VUTVIB2JY1TBdSuNhaWAcuV9nrPhe6LVa95QGWT+4LarB5qOvEZUoCFohi6P/3x\n",
       "WbXGnF3iMsPnK11SkmIaFnUN39pPXvfUv//foH6ir3W/DBWF3CAJmaSgVjAstCjjLN7dGeLu8jcp\n",
       "RbLfu8rNYOhC6MQ3SpvKhate7OEg79JDbZwIUyWG9/Jbq5J0bkNmk1Slh4iUb68ZxcLzP9H/JqRY\n",
       "YHckHdcjoiW+VAZ8GT0asHMwxvcqpOjkjx418z6BSV1EexQFJiotXx3iH0T3Z52Z+oByHWtyzzr3\n",
       "7Z+7j2xXWh4wUvLLb73N/hGV1D5WtOhY93zWO0dfMxc2JFnfFv+c8Dt2mRimmOy2zVRomdy1YOu0\n",
       "ed4qsRCAoS3SYBCjjw87SsW7B2H6PNANEp7XOEfMZMUfL6krvRAMtxwCwtYT75b61vOMP+c+0HFp\n",
       "peWiCcFjGEIiEgDLTzsQdL+1FDADEIAlpgCzoVMsk2xv8y5vk1jTNuCk3aY87167m8+m+IL75ap5\n",
       "3Xcwn66Y/IUwbn+qxwTguBpocNvby38BtfX3EdQpC4r0rgLsKki9Yzo8wa3w+rtQBAWRg6WcKb3q\n",
       "eGFr4KFC8oq3zDzfVkl1DueBaTtwPskiCjAS3sXh7oFh+9h3b7n2M5EhIDfbTEwBYIpbrGaalTX+\n",
       "UKzOXWqkgcjOeiMyqg+t5UmIjkfvo8R4bIT6P4Vor/bVKnrb0fLs8TrzvjzqHAL+Vo3bifAg4AAA\n",
       "ANdBnhRFFSw7/wAFlF13VvvCxt7nvyGxQuDZMfdb5lEnUMGxccBsz7okbO5hQEczXkFgSz4aCqob\n",
       "ybxvlYISwZBAsUuJuS6o62z0hfLq+fsqUVDCc97Xil4oLi3UEyA4dJkShC/fg4Uu2OwhkYJAHZyf\n",
       "8xQICd8upHFpuyVUvEOxYrzSoY878a9ovCyXlYzOCqUOuqL+D07hxMBZ9rBA1I6mbz46iwTtkEug\n",
       "oc2l5Nim7+RWENqe8OkOtrVRHk0oFKxSoHKg10//Fk5JKhWhhdJgSkfxTexX2AAAAM0BnjN0Q38A\n",
       "A8unfPdIaTW6R5EUodMm5qlJVMOE1jq8mAr6fAC2co66gfEpAJCnd+TK0Sg+1dm6sHROo2T1j7Jc\n",
       "rPoXVnJnpmUsfpiKYTBg6fjaN920lIX3jQJcj+AmX968talYoEvs8k4WVDlZv5WKg9YmKZ3UzF3h\n",
       "XoruyVywU+5NJr5g2iMlHXsGSCo8UIZ4i75fdJprcpPM7vx3M8wfLelITAEhHakM7znqPF9vhylW\n",
       "nlinILgexD9Rz+Eu1MsSGxmp0Ao0GwJ3NPmxAAAApQGeNWpDfwADzFD9B2t0QMeEYdIPaHNdGXS4\n",
       "RXY/PP4extJfiFaZgdGfyEwBQRKMGrWZZVpabqKX2YX7JTBLzxe3oL4kSMCuGupeqRyQX+NhIJiR\n",
       "t8ZAvffHpHBJkeNKGGWUGkQR1GV+l8GXRHYwaxu7CEtxCc7JXYUx4IyoUAVthuR3bHvY8R4Je/MC\n",
       "4FLc+ox3MsMBEbmamkwBK8ibcx9WsMVtgAAAAV5BmjdJqEFsmUwIIf/+qlUAAAMCuCFTVyZNNEhL\n",
       "5cKAaxDTDnm04QNbcrQO0WC1v09D9ukzE9F3IV6zB3/nafPev6fFpgcx+J90AEOHbxLRPnl6H0Kr\n",
       "VXr1HCzXRv/LdV8vCVaHHfM7dfSIugg7CnaFLSiAL5ib3cW76oeb9y/w2hzhN1/CSBthWyi/uXOg\n",
       "dq1MKdQeC4E1TAdqtkKlExMBC/2fFlR2mw5jyB8rnosx1OrzcAJGFb+fXNy+oN5PZEJkmRtQo+Lw\n",
       "d2wEwYA1A8oIgRXlexDNaWG/Wf81zBQnTT1E4pChmFU+97Qu0vsTeKZOtuOqsO2T2DX+mjAKlISY\n",
       "06SEi92Sq9jTOI3EaP0KvRGUwV4GPMqbZ08EfzO1kkfW7sfB+1fLXhaJHtBRJwX+SXy3oCG7erQv\n",
       "z2ZBusV4lRn/fOnq6lJrR/xIISxkdqPHByH+ydsB37dEd5gh3QAAAR5BmlhJ4QpSZTAgh//+qlUA\n",
       "AAMCyijhLJAFUZrO8rTplsyOYAWCUgRntSr1r8Ar2iZWgHe3YIpcrF6wyCpD9lvpOICnMIheVOGi\n",
       "cG0J7qDiNz1+aomeoxMwbW1RicwJgj522iftlbFzXiVn10nFIcJaGNzKpPCSGkZZ7SwzUf/Dt3z0\n",
       "C/8FUatEW5hSi5Inrjy52DCr8LFf6zIPwwXEZCPludXEYKqa7WdIewbbMkqh+lHvKBDBfabRnuzu\n",
       "UoDSvO5oM0W+qGDwAVbYdTrwm/Rj/2QaaLnbJXcc4CyFcpmiL9Djx0ogMOGtk9WZuZ3MttyvlmiV\n",
       "tx372rV6xVYHMsK9ZWhEKIVPzUJHVbIjC00h8OnAGahcDj+U24OEMimhAAABPEGafEnhDomUwIIf\n",
       "/qpVAAAFd/q4D3nnwzQuTc7kJqxxKmvrxPaw4UbsUJq/87YlQ+fqFwjEqZ8aJBIW+nco0ADI7vhz\n",
       "3gzXr6oQlB3mGNuoh6Z49F8FCpRFPxfNAoTCOgprm0TJ9bbaJ/Nsz/vpi2vFOQLAKicDP3Kv5sYC\n",
       "NfeTZTnEL8AiOkREoSY4YNdBskJW3zzB/DI+iwQDk+KoAy8KzzXx3t/c1+sh2gqQPJG5/vGsfAnG\n",
       "kidqBxe7Aj6yEcn4Mp8o5Bd44txp2wUJ4XVGPruTn5/5BveSmBNjnZENKDSkyfCGAp0+shP0na9M\n",
       "W7BqeMt1xs92hs8cbaiqcJ9tQvhhftsDx0AjdWM5vr/aDENBpiWck7176HA3rLyqjsMbiX4EHRMk\n",
       "qIC3tqi3a6cSytE5jMAENpSqxswAAAC+QZ6aRRE8O/8ABZRdd1Sq803+5DZCvgn3yKGUZPMM7SJX\n",
       "1gv/snIRJh1ElR2IqQRRnXqlqO83lrWiuxqhVaaJMJsbjoOSI5YqKNJ61taxwEASDFM2BpBVcTZX\n",
       "nVebW0a2j/6tGSocPIvQCvgPASaHUja+R8RU6z+LlUIMCbFMj01VEfCiNfs3iDw4RyqdLBnLJmqZ\n",
       "v9MsZkPU/R92tMfQYtZQfECHrIA6qGJ3RXdhbJSUn/qlUDR50acl5G0OuQAAAJIBnrl0Q38AA8un\n",
       "fTx2x38UCom+QoKs8tGOBE89IXC1TtBlTmreCIC2Buc19Jqf0gkOrEsNkeLsyG3VjNNO3PiIbZm9\n",
       "yFKQEUz4CE+6PyPNg4/4vjxSDsm9yofmkuHChziW2B7qYJEzkrQ8WpcH+hgHx/uxaRH/soLryTX3\n",
       "Fy1w1NjUHZ/cEnDCD2plg/LKsXhSsAAAAH4BnrtqQ38AA8xQ/U8YEj04oFROCV2tTTngQoJa1lCC\n",
       "8c8QiA9MPDasaXDnGz8ryVeWehFMT6/OmCMCiamMiX8dPgWOurSrtuPS5P8d2EpjEKO9U4eDGtKe\n",
       "FqXcG0MDVJ1O28SJSZJtRJ1esBC85UKsEtqEFleNaaBOQIbvkekAAADqQZq9SahBaJlMCCH//qpV\n",
       "AAAFt7zsZgTR6/GTc4uoEXQzjygG2uZEkOReun6ptlgzoVmyG7hFRjBggHcXRurLV8ABYxpp/xO/\n",
       "byJdOPGkRiGxhIjctzJ0hinrcJCBmQVRljV7bxq3UQ4SdOqc/rw4w8hV+QAPyA3lJRljrYJ/P7dx\n",
       "cNbdixRlR9GmL9bDQWYtfdMxR6o7ecjJOtDkUX+1IXqfee58BCzSSNvzuvNhkcn6nruZl1KsgldI\n",
       "TCd92HCBy5RFJpV47HLIdyinC9xW3WtGvdvg4TlswbV0B8sdn6R/Zvd1Po4sO2r5AAAA5EGa3knh\n",
       "ClJlMCCP//61KoAABMG2JE3GQJp477CZO0lVq1SJoN7dWuPiYpWBRebCb7zBWaoKuECASMlBqQxh\n",
       "lcTuWdJKrGUXX/sdQQ+F7KF4asMZkpNBvK/yB9/8zG/nU0eJoW8a2XkflL2vWs0HOvD09SocWAdS\n",
       "Rnbu0kL3W1MmIb3aSg/tqC/FUIjvLM3sAG5QlXxwYyMfudcFgofGzjfXUy4KZ4H5pz+lLolxzdEM\n",
       "WAzSTFqmMEFQKpPH9/3bXc3H8LUr76OrNpCVmOeJgxK8Y/QuP0BVCcWCazSaej1xqiOZQQAAAaBB\n",
       "muJJ4Q6JlMCCH/6qVQAAC7d52MvrsCjI5Y/GJk4Mkmn6/WcCZkw7lwRZo49fT+xZwYDDQKx5XbOI\n",
       "ebXEIUNcDs1QlB1KTm9qGibrnLf9EYqa/9uX+/rjLkHsO+SDmVSSlCDjYWuwJ2yBqTk/FczQt1EG\n",
       "GIVd62BPI0Q8uTvKQTBwUlLTjFPDNrzSQEygItvdvPERWbQ/HP96K00nBlU/EKtb7q0CqYs6Fhv4\n",
       "IIaBhSXM5Ppmyc06aXIsJKVs9MLICsaHkE9WUS++Dqa+iENR8cQCudgmean0GOmMnQpAA/ETKmXB\n",
       "5nJupdZOy60fb20UJHwYElS5MlX6aPwY+i8WO1LXOlGaFcx34RzolLenQp74erWB1BQhJOfCPhvr\n",
       "BwXqletgqrPPMwXG9wmXvS5myAWtnNN9QcTC2sRFd/v7Urhsxz46+pNANp/rCUwT7sHlvivulCny\n",
       "/2ixOkM9FvjU+QIAuS/Y897jo4AcF/JmTmqcxKjuxbjegEMQZfI7U8kq2P9gByBeMNEvzr8GWmAf\n",
       "BAgoTMekqFAZhAINU4CXgAAAAOlBnwBFETw7/wAFlF13VKr0i/x0AcLg2TH3W+ZRJPTVAKJCjJJW\n",
       "NyDBfOzslQv7SlNE7Z3LPJXmH3+8UHfoyEef9wGvPkbBXnD9vuJNBA+RWUFrmnwKlwdrhi/vTjhH\n",
       "7DYHWGR39h0y+lrx8dGrlbm1KIPZYVmWHgGVwSK67XzV/q6dJJWSQQ6hHShw1tpqE+4qOmjw0xwu\n",
       "v369L0qzktlY6yuMXA6LtObHI0xn0VzANGCVsnu9kwUjkMmfCv4lj+v2VNYG/tbqL0lZsRXDcCns\n",
       "2UvVKoC5e+5c2O4Ydo4Bcjw2nDu8a5kwgQAAAJYBnz90Q38AA8unfd4b2+ZRRalrIqVo0jqZjE8I\n",
       "6UZ3R+R6zHeCoN4KS+OPCcI+zLz/pBNaA5QEGsG6SJ+WCz0FZbkxI4H+eZgAjrwFUKcTBkeqVMsy\n",
       "oYLqyNNyjXQHCT7cNu8bEhkTbVEaPxJ6cHQ1eu5ruxbiokVstcdcmOhuyy8ZP2Q2aVVPAP/VKUDE\n",
       "O7qICMBAgoAAAACTAZ8hakN/AAPMUP32Ln8ww6QezzcSTAp5zGzVSBsDMPQtNkMXDEeU8oRbzJT7\n",
       "Oom3ofrDDQq7iFmwir5FxmZnim0DfZUi7cH8pEkC2o7y6uAyQOE2EQmjyRMZylYB0v5OOeyCgHiv\n",
       "oaXqXIGgHXB4/kJoXRFoX8gsLLZfZ/BIMNU04bY0L/JGj/RzQ7ByqFuZo5CZAAABOEGbJkmoQWiZ\n",
       "TAh3//6plgAAWb+6YZD3U6MvzWL/spKFSG+KUpVIYo6UZDMIvOsANnFB6xAHJ3zLTs37SNw89/Pe\n",
       "mZ+ojGdN/lmc2ybN89j+a3ln1W5Kll2fliwutFqsqVr0okafT/K/r0+UBOVYiyQ+zbfXW9s/n0nd\n",
       "c6lx+lfPc5Mv1nmjwrYKXWqKIv2I3ee9U/Dh6uvzyuGEOdq+yChmRnDBBP2Ri64eOZB/biBL1ssw\n",
       "l6p5GxOvWXJ8JDE3iVauzcXiDK8a2Fd+Qv9LsJbLbLJ7xjhhS+oREGHIkMMJcuXpMZb4/deXTGjv\n",
       "QLpyrDH2/6RSm2a01M6I4DdjVshK+UDf0KhfutJlxA33a2A1m0ukOIMAc/1xSfu7/JA1jVVO8qK+\n",
       "yeNU59O+dxu5RGMy8xDPiOcz4AAAAM1Bn0RFESw7/wAFlF13VvvG9vMfO/rhOHG+qUAHNK91skMs\n",
       "ZlwJbVwjaQDqyQqzZxxMiU30DIRWxXpRn2m6XtSnJ9vE0yL7voUVpMVWATm/vhuALIfQDAcyYiC3\n",
       "VkRTKMSWgs+CWQFAKjHmwl8AQlUseZam8qhTl3E/DLwW1QV+fuzYHpunS0jQwZr8eeNjevX1lZD2\n",
       "mf6l3YWmYKX926C4wrYBl51En5z0Bnq0uyW0NEk2kSq6u4fM7A13ZVkqQPAq/lV7fCeIBH+MdFMx\n",
       "AAAAegGfY3RDfwADy6d/C4dHgtVROKA624HeRRbFC2KnMpsfXf1RdLKtE0kF9mS7iN91DsWzJMGG\n",
       "3sl7ZWTg73ZbDsyAemlurXUnS/+X31LmHTcLSFjnHO7KAeOslud/8lnTH4tY2amIH33Kek9NNWS1\n",
       "gw+vTvDNEbD7etqJAAAApQGfZWpDfwADzFD/PPN1LUq6jjYK7H2RRd1hF085lN6D7Qd4xUBd9rna\n",
       "qKeYcRfPICv/x1TT8LWgTs7QrLAZuJN2ZjcfFXgqXDNf/dH43gT6XveE4tnMSvngT1OrXdXw+Xtq\n",
       "XiUCbgMlzPGh3Qs4VCgB9WtFeZUCFyvWgufLrQP9XJVhsNxc+Ab1rHj8Pfpm8A4dKrutIa9/m8NW\n",
       "l6pPTYgydXfNoQAAAK9Bm2dJqEFsmUwIb//+p4QAALWCGADyGFeMx+R/097B5fb+NCNGQPxC6DgS\n",
       "jCwxzyQCMYfh5uJxR+xuGfhAFI1iPSG3mO1+PcKg3qYnwAkahvTHkCwctaeOW/A7GdM0kE5ZFh34\n",
       "xFKW/VbQDthBT0KrobsDaVkDii6IpFcVD8K0i/M1oZHaiC5m92gsuQwJQwMmFgOXIceF7L9O55Xs\n",
       "MqYv4Wfk1cTQYiD6RmzCmwZHAAAEr21vb3YAAABsbXZoZAAAAAAAAAAAAAAAAAAAA+gAAA+gAAEA\n",
       "AAEAAAAAAAAAAAAAAAABAAAAAAAAAAAAAAAAAAAAAQAAAAAAAAAAAAAAAAAAQAAAAAAAAAAAAAAA\n",
       "AAAAAAAAAAAAAAAAAAAAAAAAAAIAAAPZdHJhawAAAFx0a2hkAAAAAwAAAAAAAAAAAAAAAQAAAAAA\n",
       "AA+gAAAAAAAAAAAAAAAAAAAAAAABAAAAAAAAAAAAAAAAAAAAAQAAAAAAAAAAAAAAAAAAQAAAAAH0\n",
       "AAABkAAAAAAAJGVkdHMAAAAcZWxzdAAAAAAAAAABAAAPoAAACAAAAQAAAAADUW1kaWEAAAAgbWRo\n",
       "ZAAAAAAAAAAAAAAAAAAAKAAAAKAAVcQAAAAAAC1oZGxyAAAAAAAAAAB2aWRlAAAAAAAAAAAAAAAA\n",
       "VmlkZW9IYW5kbGVyAAAAAvxtaW5mAAAAFHZtaGQAAAABAAAAAAAAAAAAAAAkZGluZgAAABxkcmVm\n",
       "AAAAAAAAAAEAAAAMdXJsIAAAAAEAAAK8c3RibAAAALRzdHNkAAAAAAAAAAEAAACkYXZjMQAAAAAA\n",
       "AAABAAAAAAAAAAAAAAAAAAAAAAH0AZAASAAAAEgAAAAAAAAAAQAAAAAAAAAAAAAAAAAAAAAAAAAA\n",
       "AAAAAAAAAAAAAAAAABj//wAAADJhdmNDAWQAFv/hABlnZAAWrNlAgDPn4QAAAwABAAADABQPFi2W\n",
       "AQAGaOvjyyLAAAAAHHV1aWRraEDyXyRPxbo5pRvPAyPzAAAAAAAAABhzdHRzAAAAAAAAAAEAAAAo\n",
       "AAAEAAAAABRzdHNzAAAAAAAAAAEAAAABAAAA8GN0dHMAAAAAAAAAHAAAAAsAAAgAAAAAAQAAFAAA\n",
       "AAABAAAIAAAAAAEAAAAAAAAAAQAABAAAAAABAAAUAAAAAAEAAAgAAAAAAQAAAAAAAAABAAAEAAAA\n",
       "AAEAABQAAAAAAQAACAAAAAABAAAAAAAAAAEAAAQAAAAAAgAACAAAAAABAAAUAAAAAAEAAAgAAAAA\n",
       "AQAAAAAAAAABAAAEAAAAAAIAAAgAAAAAAQAAFAAAAAABAAAIAAAAAAEAAAAAAAAAAQAABAAAAAAB\n",
       "AAAUAAAAAAEAAAgAAAAAAQAAAAAAAAABAAAEAAAAAAEAAAgAAAAAHHN0c2MAAAAAAAAAAQAAAAEA\n",
       "AAAoAAAAAQAAALRzdHN6AAAAAAAAAAAAAAAoAAAZUAAAAXQAAAFGAAAA9wAAAPEAAAC6AAAArwAA\n",
       "APgAAAEFAAAApQAAAKMAAADDAAAArAAAAHUAAACnAAAB2wAAAPEAAACZAAAAswAAAmwAAADbAAAA\n",
       "0QAAAKkAAAFiAAABIgAAAUAAAADCAAAAlgAAAIIAAADuAAAA6AAAAaQAAADtAAAAmgAAAJcAAAE8\n",
       "AAAA0QAAAH4AAACpAAAAswAAABRzdGNvAAAAAAAAAAEAAAAsAAAAYnVkdGEAAABabWV0YQAAAAAA\n",
       "AAAhaGRscgAAAAAAAAAAbWRpcmFwcGwAAAAAAAAAAAAAAAAtaWxzdAAAACWpdG9vAAAAHWRhdGEA\n",
       "AAABAAAAAExhdmY1Ni40MC4xMDE=\n",
       "\">\n",
       "  Your browser does not support the video tag.\n",
       "</video>"
      ],
      "text/plain": [
       "<matplotlib.animation.FuncAnimation at 0x7f99fa2d2f90>"
      ]
     },
     "execution_count": 10,
     "metadata": {},
     "output_type": "execute_result"
    }
   ],
   "source": [
    "fig = plt.figure(dpi=100, figsize=(5,4))\n",
    "plt.scatter(x,y)\n",
    "line, = plt.plot(x, lin(a_guess, b_guess, x))\n",
    "plt.close()\n",
    "\n",
    "def animate(i):\n",
    "    line.set_ydata(lin(a_guess, b_guess, x))\n",
    "    for i in range(10):\n",
    "        upd()\n",
    "        return line,\n",
    "\n",
    "ani = animation.FuncAnimation(fig, animate, np.arange(0,40), interval=100)\n",
    "ani"
   ]
  },
  {
   "cell_type": "code",
   "execution_count": null,
   "metadata": {
    "collapsed": true
   },
   "outputs": [],
   "source": []
  }
 ],
 "metadata": {
  "anaconda-cloud": {},
  "kernelspec": {
   "display_name": "Python [conda root]",
   "language": "python",
   "name": "conda-root-py"
  },
  "language_info": {
   "codemirror_mode": {
    "name": "ipython",
    "version": 2
   },
   "file_extension": ".py",
   "mimetype": "text/x-python",
   "name": "python",
   "nbconvert_exporter": "python",
   "pygments_lexer": "ipython2",
   "version": "2.7.12"
  }
 },
 "nbformat": 4,
 "nbformat_minor": 1
}
