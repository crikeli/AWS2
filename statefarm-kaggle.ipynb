{
 "cells": [
  {
   "cell_type": "markdown",
   "metadata": {},
   "source": [
    "## StateFarm Kaggle Challenge\n",
    "\n",
    "- For this Kaggle Challenge, I will be performing a rigorous analysis of the dataset provided by StateFarm to predict whether or not the image of a driver is in a distracted or non distracted phase.\n",
    "\n",
    "\n",
    "- StateFarm has provided labelled training data in the form of images of drivers that have been classified in one of 10 different states.\n",
    "\n",
    "\n",
    "- The states of the drivers are :\n",
    "    - c0 : Safe Driving (2489 images)\n",
    "    - c1 : texting - right (2267 images)\n",
    "    - c2 : talking on the phone - right (2317 images)\n",
    "    - c3 : texting - left (2346 images)\n",
    "    - c4 : talking on the phone - left (2326 images)\n",
    "    - c5 : operating the radio (2312 images)\n",
    "    - c6 : drinking (2325 images)\n",
    "    - c7 : reaching behind (2002 images)\n",
    "    - c8 : hair and makeup (1911 images)\n",
    "    - c9 : talking to a passenger (2129 images)\n",
    "\n",
    "\n",
    "- The testing data provided is totally unlabelled as expected.\n",
    "    \n",
    "\n",
    "- My goal for this notebook is to demonstrate an intuitive understanding of going about solving a computer vision problem.\n",
    "\n",
    "\n",
    "- I will be solving this problem by building on top of the Vgg16 model and I will be employing various proven methods that improve accuracy. I will not be going into the mathematical details of approaches, but rather something that can be thought through intuitively such that the process adds up."
   ]
  },
  {
   "cell_type": "code",
   "execution_count": 3,
   "metadata": {
    "collapsed": false
   },
   "outputs": [
    {
     "name": "stderr",
     "output_type": "stream",
     "text": [
      "Using gpu device 0: Tesla K80 (CNMeM is disabled, cuDNN 5103)\n",
      "/home/ubuntu/anaconda2/lib/python2.7/site-packages/theano/sandbox/cuda/__init__.py:600: UserWarning: Your cuDNN version is more recent than the one Theano officially supports. If you see any problems, try updating Theano or downgrading cuDNN to version 5.\n",
      "  warnings.warn(warn)\n",
      "Using Theano backend.\n"
     ]
    }
   ],
   "source": [
    "from theano.sandbox import cuda\n",
    "\n",
    "# The first step is to import the libraries that I will be utilizing.\n",
    "import os, sys\n",
    "current_dir = os.getcwd()\n",
    "HOME_DIRECTORY = current_dir\n",
    "\n",
    "# directory where the statefarm data resides.\n",
    "DATA_DIRECTORY = current_dir + '/data/statefarm'\n",
    "\n",
    "# Importing helper functions and libraries\n",
    "from utils import *\n",
    "from vgg16 import Vgg16\n",
    "\n",
    "%matplotlib inline"
   ]
  },
  {
   "cell_type": "code",
   "execution_count": 4,
   "metadata": {
    "collapsed": false
   },
   "outputs": [
    {
     "name": "stdout",
     "output_type": "stream",
     "text": [
      "/home/ubuntu/nbs/data/statefarm\n"
     ]
    }
   ],
   "source": [
    "%cd $DATA_DIRECTORY"
   ]
  },
  {
   "cell_type": "code",
   "execution_count": 5,
   "metadata": {
    "collapsed": true
   },
   "outputs": [],
   "source": [
    "# A folder structure is created that holds data in a way that can be\n",
    "# seamlessly passed into the neural network\n",
    "%mkdir valid\n",
    "%mkdir results\n",
    "\n",
    "# There is a sample directory to do quick iterative testing of a model\n",
    "# without using the entire dataset.\n",
    "%mkdir -p sample/train\n",
    "%mkdir -p sample/test\n",
    "%mkdir -p sample/valid\n",
    "%mkdir -p sample/results\n",
    "\n",
    "# I am not sure yet why this is made.\n",
    "%mkdir -p test/unknown"
   ]
  },
  {
   "cell_type": "code",
   "execution_count": 7,
   "metadata": {
    "collapsed": false
   },
   "outputs": [],
   "source": [
    "# Now that the appropriate directories have been set up, it needs to be made sure\n",
    "# that each directory contains appropriate data.\n",
    "\n",
    "# Meaning, the valid directory, sample/train and sample/valid directories\n",
    "# must contain the same files (c0 - c9) within them.\n",
    "\n",
    "# So lets make that happen. \n",
    "%mkdir -p valid/c0\n",
    "%mkdir -p valid/c1\n",
    "%mkdir -p valid/c2\n",
    "%mkdir -p valid/c3\n",
    "%mkdir -p valid/c4\n",
    "%mkdir -p valid/c5\n",
    "%mkdir -p valid/c6\n",
    "%mkdir -p valid/c7\n",
    "%mkdir -p valid/c8\n",
    "%mkdir -p valid/c9\n",
    "\n",
    "%mkdir -p sample/valid/c0\n",
    "%mkdir -p sample/valid/c1\n",
    "%mkdir -p sample/valid/c2\n",
    "%mkdir -p sample/valid/c3\n",
    "%mkdir -p sample/valid/c4\n",
    "%mkdir -p sample/valid/c5\n",
    "%mkdir -p sample/valid/c6\n",
    "%mkdir -p sample/valid/c7\n",
    "%mkdir -p sample/valid/c8\n",
    "%mkdir -p sample/valid/c9\n",
    "\n",
    "%mkdir -p sample/train/c0\n",
    "%mkdir -p sample/train/c1\n",
    "%mkdir -p sample/train/c2\n",
    "%mkdir -p sample/train/c3\n",
    "%mkdir -p sample/train/c4\n",
    "%mkdir -p sample/train/c5\n",
    "%mkdir -p sample/train/c6\n",
    "%mkdir -p sample/train/c7\n",
    "%mkdir -p sample/train/c8\n",
    "%mkdir -p sample/train/c9"
   ]
  },
  {
   "cell_type": "code",
   "execution_count": 11,
   "metadata": {
    "collapsed": false
   },
   "outputs": [
    {
     "name": "stdout",
     "output_type": "stream",
     "text": [
      "/home/ubuntu/nbs/data/statefarm/train\n"
     ]
    }
   ],
   "source": [
    "%cd train"
   ]
  },
  {
   "cell_type": "code",
   "execution_count": 12,
   "metadata": {
    "collapsed": true
   },
   "outputs": [],
   "source": [
    "# renaming files + moving them to validation folder.\n",
    "g = glob('c?/*.jpg')\n",
    "shuf = np.random.permutation(g)\n",
    "for i in range(400): os.rename(shuf[i], DATA_DIRECTORY+'/valid/'+shuf[i])"
   ]
  },
  {
   "cell_type": "code",
   "execution_count": null,
   "metadata": {
    "collapsed": true
   },
   "outputs": [],
   "source": []
  }
 ],
 "metadata": {
  "anaconda-cloud": {},
  "kernelspec": {
   "display_name": "Python [conda root]",
   "language": "python",
   "name": "conda-root-py"
  },
  "language_info": {
   "codemirror_mode": {
    "name": "ipython",
    "version": 2
   },
   "file_extension": ".py",
   "mimetype": "text/x-python",
   "name": "python",
   "nbconvert_exporter": "python",
   "pygments_lexer": "ipython2",
   "version": "2.7.12"
  }
 },
 "nbformat": 4,
 "nbformat_minor": 1
}
